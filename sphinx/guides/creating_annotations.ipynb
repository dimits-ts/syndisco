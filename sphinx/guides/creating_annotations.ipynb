{
 "cells": [
  {
   "cell_type": "markdown",
   "metadata": {},
   "source": [
    "# Generating Synthetic Annotations\n",
    "\n",
    "This short guide will show you how to utilize SynDisco's `LLM annotator-agents` to generate annotations for our synthetic discussions. This will allow you to quickly and cheaply evaluate the discussions you've generated in the last guide."
   ]
  },
  {
   "cell_type": "code",
   "execution_count": 5,
   "metadata": {},
   "outputs": [],
   "source": [
    "%load_ext autoreload\n",
    "%autoreload 2"
   ]
  },
  {
   "cell_type": "markdown",
   "metadata": {},
   "source": [
    "First, let's create a small, fake discussion."
   ]
  },
  {
   "cell_type": "code",
   "execution_count": 1,
   "metadata": {
    "execution": {
     "iopub.execute_input": "2025-04-04T13:19:16.254335Z",
     "iopub.status.busy": "2025-04-04T13:19:16.254007Z",
     "iopub.status.idle": "2025-04-04T13:19:16.261081Z",
     "shell.execute_reply": "2025-04-04T13:19:16.260241Z"
    }
   },
   "outputs": [],
   "source": [
    "import tempfile\n",
    "\n",
    "discussion_str = \"\"\"\n",
    "{\n",
    "  \"id\": \"789f7c2f-7291-457b-888a-7d2b1520454a\",\n",
    "  \"timestamp\": \"25-03-26-11-14\",\n",
    "  \"users\": [\n",
    "    \"Emma35\",\n",
    "    \"Giannis\",\n",
    "    \"Moderator\"\n",
    "  ],\n",
    "  \"moderator\": \"Moderator\",\n",
    "  \"user_prompts\": [\n",
    "    \"You are taking part in an online conversation Your name is Emma35. Your traits: username: Emma35, age: 38, sex: female, sexual_orientation: Heterosexual, demographic_group: Latino, current_employment: Registered Nurse, education_level: Bachelor's, special_instructions: , personality_characteristics: ['compassionate', 'patient', 'diligent', 'overwhelmed'] Your instructions: Act like a human would\",\n",
    "    \"You are taking part in an online conversation Your name is Giannis. Your traits: username: Giannis, age: 21, sex: male, sexual_orientation: Pansexual, demographic_group: White, current_employment: Game Developer, education_level: College, special_instructions: , personality_characteristics: ['strategic', 'meticulous', 'nerdy', 'hyper-focused'] Your instructions: Act like a human would\",\n",
    "    \"You are taking part in an online conversation Your name is Moderator. Your traits: username: Moderator, age: 41, sex: male, sexual_orientation: Pansexual, demographic_group: White, current_employment: Moderator, education_level: PhD, special_instructions: , personality_characteristics: ['strict', 'neutral', 'just'] Your instructions: You are a moderator. Oversee the conversation\"\n",
    "  ],\n",
    "  \"moderator_prompt\": \"You are taking part in an online conversation Your name is Moderator. Your traits: username: Moderator, age: 41, sex: male, sexual_orientation: Pansexual, demographic_group: White, current_employment: Moderator, education_level: PhD, special_instructions: , personality_characteristics: ['strict', 'neutral', 'just'] Your instructions: You are a moderator. Oversee the conversation\",\n",
    "  \"ctx_length\": 5,\n",
    "  \"logs\": [\n",
    "    {\n",
    "      \"name\": \"Emma35\",\n",
    "      \"text\": \"Immigrants have played a significant role in our society. Their contributions are valuable and should be celebrated.\",\n",
    "      \"model\": \"test_model\"\n",
    "    },\n",
    "    {\n",
    "      \"name\": \"Giannis\",\n",
    "      \"text\": \"That's such an ignorant comment about immigrants. She doesn't know what she's talking about, let alone appreciate the hard work and dedication of immigrants who have contributed to our country.\",\n",
    "      \"model\": \"test_model\"\n",
    "    },\n",
    "    {\n",
    "      \"name\": \"Moderator\",\n",
    "      \"text\": \"I understand both perspectives. It's important to approach such discussions with respect and understanding. Let's ensure this conversation remains constructive.\",\n",
    "      \"model\": \"test_model\"\n",
    "    }\n",
    "  ]\n",
    "}\n",
    "\"\"\"\n",
    "\n",
    "discussion_file = tempfile.NamedTemporaryFile(delete=True)\n",
    "with open(discussion_file.name, mode=\"w\") as f:\n",
    "    f.write(discussion_str)"
   ]
  },
  {
   "cell_type": "markdown",
   "metadata": {},
   "source": [
    "## Creating an annotator\n",
    "\n",
    "An annotator-agent is very similar to the user-agents found in the [previous guide](creating_discussion.ipynb). The only real difference is that we need to pass a different `ActorType` to the LlmAgent function."
   ]
  },
  {
   "cell_type": "code",
   "execution_count": 2,
   "metadata": {
    "execution": {
     "iopub.execute_input": "2025-04-04T13:19:16.263381Z",
     "iopub.status.busy": "2025-04-04T13:19:16.263086Z",
     "iopub.status.idle": "2025-04-04T13:20:41.248417Z",
     "shell.execute_reply": "2025-04-04T13:20:41.247532Z"
    }
   },
   "outputs": [
    {
     "name": "stderr",
     "output_type": "stream",
     "text": [
      "/home/dimits/miniconda3/envs/syndiscooooo/lib/python3.13/site-packages/requests/__init__.py:86: RequestsDependencyWarning: Unable to find acceptable character detection dependency (chardet or charset_normalizer).\n",
      "  warnings.warn(\n",
      "/home/dimits/miniconda3/envs/syndiscooooo/lib/python3.13/site-packages/tqdm/auto.py:21: TqdmWarning: IProgress not found. Please update jupyter and ipywidgets. See https://ipywidgets.readthedocs.io/en/stable/user_install.html\n",
      "  from .autonotebook import tqdm as notebook_tqdm\n"
     ]
    },
    {
     "name": "stdout",
     "output_type": "stream",
     "text": [
      "{\"timestamp\":\"2025-06-12T06:48:00.519382Z\",\"level\":\"WARN\",\"fields\":{\"message\":\"Reqwest(reqwest::Error { kind: Request, url: \\\"https://transfer.xethub.hf.co/xorbs/default/5465e2b71bf274a89e9fc3b8c9e724d9b78b868ae6c30d3a2f0c1ba1d266f555?X-Xet-Signed-Range=bytes%3D36142645-37284155&Expires=1749714447&Policy=eyJTdGF0ZW1lbnQiOlt7IlJlc291cmNlIjoiaHR0cHM6Ly90cmFuc2Zlci54ZXRodWIuaGYuY28veG9yYnMvZGVmYXVsdC81NDY1ZTJiNzFiZjI3NGE4OWU5ZmMzYjhjOWU3MjRkOWI3OGI4NjhhZTZjMzBkM2EyZjBjMWJhMWQyNjZmNTU1P1gtWGV0LVNpZ25lZC1SYW5nZT1ieXRlcyUzRDM2MTQyNjQ1LTM3Mjg0MTU1IiwiQ29uZGl0aW9uIjp7IkRhdGVMZXNzVGhhbiI6eyJBV1M6RXBvY2hUaW1lIjoxNzQ5NzE0NDQ3fX19XX0_&Signature=LL2PYOPryBRuUv5iuFUP00WwLLiSKc7e8Em7YVz3kmoVE2ZOW6Hs2Df1TwsoEQdrRr-enFb4QBcy4GyKk6w3-AnAQ68y~89-SN9ghAKYBBTFduRlsiXkCkNYGL~5NaHW-hso2gDdn6wCv~ify~1OAWCA0ae64JSGmTma9VkFvYfJEDdQDuICeU1QpAUKt05o6Cq3C6tQdId3D1wvI1vMCxtb95AXEQ4XJQuIoIVPotstiLRzDu5qDSoEI7bIFKLd1utNJyshwb5sPd4zawRnflV0Ebe9JBFwcO9~wQ1gJ7SSfhHtrP6VUUDP6qqGTh4tcnQhIwyMvBiOhpUDnNF0jA__&Key-Pair-Id=K2L8F4GPSG1IFC\\\", source: hyper_util::client::legacy::Error(SendRequest, hyper::Error(IncompleteMessage)) }). Retrying...\"},\"filename\":\"/home/runner/work/xet-core/xet-core/cas_client/src/http_client.rs\",\"line_number\":200}\n",
      "{\"timestamp\":\"2025-06-12T06:48:00.519441Z\",\"level\":\"WARN\",\"fields\":{\"message\":\"Retry attempt #0. Sleeping 1.889656955s before the next attempt\"},\"filename\":\"/root/.cargo/registry/src/index.crates.io-1949cf8c6b5b557f/reqwest-retry-0.7.0/src/middleware.rs\",\"line_number\":171}\n",
      "{\"timestamp\":\"2025-06-12T06:48:00.561590Z\",\"level\":\"WARN\",\"fields\":{\"message\":\"Reqwest(reqwest::Error { kind: Request, url: \\\"https://transfer.xethub.hf.co/xorbs/default/b67da86d7dba033034c8397c62bbdca0f9d717dc867b5aaf6a6861e3ac4fd379?X-Xet-Signed-Range=bytes%3D6637283-30364630&Expires=1749714447&Policy=eyJTdGF0ZW1lbnQiOlt7IlJlc291cmNlIjoiaHR0cHM6Ly90cmFuc2Zlci54ZXRodWIuaGYuY28veG9yYnMvZGVmYXVsdC9iNjdkYTg2ZDdkYmEwMzMwMzRjODM5N2M2MmJiZGNhMGY5ZDcxN2RjODY3YjVhYWY2YTY4NjFlM2FjNGZkMzc5P1gtWGV0LVNpZ25lZC1SYW5nZT1ieXRlcyUzRDY2MzcyODMtMzAzNjQ2MzAiLCJDb25kaXRpb24iOnsiRGF0ZUxlc3NUaGFuIjp7IkFXUzpFcG9jaFRpbWUiOjE3NDk3MTQ0NDd9fX1dfQ__&Signature=JpPG4wvdIoTrzNjjPRJcNcA10vNx-asgQiCC7iG8o5yS1IFwNO0KHHvuWUU9penMuSkD24FG1rO4hxThXvxuRsntJzxm6EHIjwuEPaOVNsKvuM060BQ6GcDqWbJnwGrHHj2HjRGi~Q6ATtaD84KoVffTntwlIAzrWsE2VxK5vOKHugRRa~KvczVYBSGAUFS8oZB7MgJmpTNOuoYi7q45VtYPTwLyckQeU49xKB5CdktEKRYh0baMrVOrZSFyx9DdwHXE5-dLdwtv8XW3~Qr0m5bSNofq80fz5GRsI~4lPVRvn75tcenbBbm8XJLnLT4TqdL86sSkQbqUHR0QCq6DAQ__&Key-Pair-Id=K2L8F4GPSG1IFC\\\", source: hyper_util::client::legacy::Error(SendRequest, hyper::Error(IncompleteMessage)) }). Retrying...\"},\"filename\":\"/home/runner/work/xet-core/xet-core/cas_client/src/http_client.rs\",\"line_number\":200}\n",
      "{\"timestamp\":\"2025-06-12T06:48:00.561629Z\",\"level\":\"WARN\",\"fields\":{\"message\":\"Retry attempt #0. Sleeping 570.90263ms before the next attempt\"},\"filename\":\"/root/.cargo/registry/src/index.crates.io-1949cf8c6b5b557f/reqwest-retry-0.7.0/src/middleware.rs\",\"line_number\":171}\n",
      "{\"timestamp\":\"2025-06-12T06:48:01.551166Z\",\"level\":\"WARN\",\"fields\":{\"message\":\"Reqwest(reqwest::Error { kind: Request, url: \\\"https://transfer.xethub.hf.co/xorbs/default/313f6adc1befc954818c50c82e3d768be8617f2286a04856a94a00ec3a8ec6d8?X-Xet-Signed-Range=bytes%3D30736877-31088256&Expires=1749714476&Policy=eyJTdGF0ZW1lbnQiOlt7IlJlc291cmNlIjoiaHR0cHM6Ly90cmFuc2Zlci54ZXRodWIuaGYuY28veG9yYnMvZGVmYXVsdC8zMTNmNmFkYzFiZWZjOTU0ODE4YzUwYzgyZTNkNzY4YmU4NjE3ZjIyODZhMDQ4NTZhOTRhMDBlYzNhOGVjNmQ4P1gtWGV0LVNpZ25lZC1SYW5nZT1ieXRlcyUzRDMwNzM2ODc3LTMxMDg4MjU2IiwiQ29uZGl0aW9uIjp7IkRhdGVMZXNzVGhhbiI6eyJBV1M6RXBvY2hUaW1lIjoxNzQ5NzE0NDc2fX19XX0_&Signature=v0TJiUPQhfYd6u1mRmwRtclY~983R7L0XnX7vRbvvcQ41DVDDZHWzxRnrpCun~M9w71oQ4ShX30ifjezqvt-Iax5j2YoFhbmrohWR9AlEex5f3i8M4VNVZCDZoePK6yyxN3ge2ZXbcaO44HIO2hKqo0QMIyfuEGQM7ug4Ar7YZmt1Ob9e-kXNy57a-~Iesw51SaLzBB0aozd0OHqS3yFyfLB~V64YIIZlEhl405-X5cNn1uXc2rTcJbfjSy0SsyK-PiiPYh-fwG4-oaGkiFhGPXQA6~63BitXNOS09I1PzPACpxNT00BPnV6AgYPV4mOOExb8T7-urKjfHSVBvtjhg__&Key-Pair-Id=K2L8F4GPSG1IFC\\\", source: hyper_util::client::legacy::Error(SendRequest, hyper::Error(IncompleteMessage)) }). Retrying...\"},\"filename\":\"/home/runner/work/xet-core/xet-core/cas_client/src/http_client.rs\",\"line_number\":200}\n",
      "{\"timestamp\":\"2025-06-12T06:48:01.551242Z\",\"level\":\"WARN\",\"fields\":{\"message\":\"Retry attempt #0. Sleeping 398.927428ms before the next attempt\"},\"filename\":\"/root/.cargo/registry/src/index.crates.io-1949cf8c6b5b557f/reqwest-retry-0.7.0/src/middleware.rs\",\"line_number\":171}\n",
      "{\"timestamp\":\"2025-06-12T06:48:08.554115Z\",\"level\":\"WARN\",\"fields\":{\"message\":\"Reqwest(reqwest::Error { kind: Request, url: \\\"https://transfer.xethub.hf.co/xorbs/default/40912d3ffbdfc958a934fb44eb29b3be70c499fe643091a10c7f7611736c0900?X-Xet-Signed-Range=bytes%3D60263724-67109331&Expires=1749714447&Policy=eyJTdGF0ZW1lbnQiOlt7IlJlc291cmNlIjoiaHR0cHM6Ly90cmFuc2Zlci54ZXRodWIuaGYuY28veG9yYnMvZGVmYXVsdC80MDkxMmQzZmZiZGZjOTU4YTkzNGZiNDRlYjI5YjNiZTcwYzQ5OWZlNjQzMDkxYTEwYzdmNzYxMTczNmMwOTAwP1gtWGV0LVNpZ25lZC1SYW5nZT1ieXRlcyUzRDYwMjYzNzI0LTY3MTA5MzMxIiwiQ29uZGl0aW9uIjp7IkRhdGVMZXNzVGhhbiI6eyJBV1M6RXBvY2hUaW1lIjoxNzQ5NzE0NDQ3fX19XX0_&Signature=u4143Gus1CS7XT89aoBGJ9G6Cy88bqgzmiYxfBsNNgFF-c7R6SJ~u-sAGUcSk435Irb5s8CS5LiAGJvxkAxN6Pg8-F71fBA0sfe-OA5kCo8JA2OHHS5Nk-Va8w7~yXngRZEAk5I9G3WrBPers5HWmXlNz~8DdLuV~UM8sCuHf4A9kFOkXikM3WdV5Ao6t451J10I8Uakrvoj4p5FBKuPFuqnbO1zq6l8Jxg~8Ndtz5quXuXSSmPYQaamg~HEyQakF7kjTk8XTqznE8YPeSXaBMp6Zgbwi2xt8CH~-ke6MzBKABl-RRA9VM2rFLrQBgHuB0iMwUzxE9KBrC1rNDWW7A__&Key-Pair-Id=K2L8F4GPSG1IFC\\\", source: hyper_util::client::legacy::Error(SendRequest, hyper::Error(IncompleteMessage)) }). Retrying...\"},\"filename\":\"/home/runner/work/xet-core/xet-core/cas_client/src/http_client.rs\",\"line_number\":200}\n",
      "{\"timestamp\":\"2025-06-12T06:48:08.554165Z\",\"level\":\"WARN\",\"fields\":{\"message\":\"Retry attempt #0. Sleeping 573.834982ms before the next attempt\"},\"filename\":\"/root/.cargo/registry/src/index.crates.io-1949cf8c6b5b557f/reqwest-retry-0.7.0/src/middleware.rs\",\"line_number\":171}\n"
     ]
    },
    {
     "name": "stderr",
     "output_type": "stream",
     "text": [
      "Device set to use cuda:0\n"
     ]
    }
   ],
   "source": [
    "from syndisco.backend.model import TransformersModel\n",
    "from syndisco.backend.persona import LLMPersona\n",
    "from syndisco.backend.actors import LLMActor, ActorType\n",
    "\n",
    "\n",
    "llm = TransformersModel(\n",
    "    model_path=\"unsloth/Llama-3.2-3B-Instruct-bnb-4bit\",\n",
    "    name=\"test_model\",\n",
    "    max_out_tokens=100,\n",
    ")\n",
    "\n",
    "\n",
    "# annotator agents are not given a username\n",
    "# in order to avoid accidental name conflicts with participants\n",
    "annotator_persona = LLMPersona(\n",
    "    **{\n",
    "        \"username\": \"\",\n",
    "        \"age\": 38,\n",
    "        \"sex\": \"female\",\n",
    "        \"education_level\": \"Bachelor's\",\n",
    "        \"sexual_orientation\": \"Heterosexual\",\n",
    "        \"demographic_group\": \"White\",\n",
    "        \"current_employment\": \"Annotator\",\n",
    "        \"special_instructions\": \"\",\n",
    "        \"personality_characteristics\": [\"competent\"],\n",
    "    }\n",
    ")\n",
    "\n",
    "annotator = LLMActor(\n",
    "    model=llm,\n",
    "    name=\"\",\n",
    "    attributes=annotator_persona.to_attribute_list(),\n",
    "    context=\"You are annotating an online discussion\",\n",
    "    instructions=(\n",
    "        \"From a scale of 1 (not toxic) to 5 (very toxic) \"\n",
    "        \"how toxic is  the following comment? Reply only with a number?\"\n",
    "    ),\n",
    "    actor_type=ActorType.ANNOTATOR,\n",
    ")"
   ]
  },
  {
   "cell_type": "markdown",
   "metadata": {},
   "source": [
    "## Executing the annotation\n",
    "\n",
    "Annotations are treated as a form of discussions, where one user writes the logs of the last discussion, while the annotator-agent rates them."
   ]
  },
  {
   "cell_type": "code",
   "execution_count": 3,
   "metadata": {
    "execution": {
     "iopub.execute_input": "2025-04-04T13:20:41.251523Z",
     "iopub.status.busy": "2025-04-04T13:20:41.251092Z",
     "iopub.status.idle": "2025-04-04T13:20:41.973520Z",
     "shell.execute_reply": "2025-04-04T13:20:41.972704Z"
    }
   },
   "outputs": [
    {
     "name": "stdout",
     "output_type": "stream",
     "text": [
      "User Emma35 posted: Immigrants have played a significant role in our\n",
      "society. Their contributions are valuable and should be celebrated.\n",
      "1\n",
      "User Giannis posted: That's such an ignorant comment about immigrants.\n",
      "She doesn't know what she's talking about, let alone appreciate the\n",
      "hard work and dedication of immigrants who have contributed to our\n",
      "country.\n",
      "4\n",
      "User Moderator posted: I understand both perspectives. It's important\n",
      "to approach such discussions with respect and understanding. Let's\n",
      "ensure this conversation remains constructive.\n",
      "1\n"
     ]
    }
   ],
   "source": [
    "from syndisco.jobs import Annotation\n",
    "\n",
    "ann_conv = Annotation(\n",
    "    annotator=annotator,\n",
    "    conv_logs_path=discussion_file.name,\n",
    "    include_moderator_comments=True,\n",
    ")\n",
    "ann_conv.begin()"
   ]
  },
  {
   "cell_type": "markdown",
   "metadata": {},
   "source": [
    "Like normal discussions, it is recommended to save the annotations to the disk."
   ]
  },
  {
   "cell_type": "code",
   "execution_count": 6,
   "metadata": {
    "execution": {
     "iopub.execute_input": "2025-04-04T13:20:41.975983Z",
     "iopub.status.busy": "2025-04-04T13:20:41.975837Z",
     "iopub.status.idle": "2025-04-04T13:20:41.980682Z",
     "shell.execute_reply": "2025-04-04T13:20:41.980004Z"
    }
   },
   "outputs": [
    {
     "name": "stdout",
     "output_type": "stream",
     "text": [
      "{\n",
      "  \"conv_id\": \"789f7c2f-7291-457b-888a-7d2b1520454a\",\n",
      "  \"timestamp\": \"25-06-12-10-22\",\n",
      "  \"annotator_model\": \"test_model\",\n",
      "  \"annotator_prompt\": \"You are annotating an online discussion Your name is . Your traits: username: , age: 38, sex: female, sexual_orientation: Heterosexual, demographic_group: White, current_employment: Annotator, education_level: Bachelor's, special_instructions: , personality_characteristics: ['competent'] Your instructions: From a scale of 1 (not toxic) to 5 (very toxic) how toxic is  the following comment? Reply only with a number?\",\n",
      "  \"ctx_length\": 2,\n",
      "  \"logs\": [\n",
      "    [\n",
      "      \"Immigrants have played a significant role in our society. Their contributions are valuable and should be celebrated.\",\n",
      "      \"1\"\n",
      "    ],\n",
      "    [\n",
      "      \"That's such an ignorant comment about immigrants. She doesn't know what she's talking about, let alone appreciate the hard work and dedication of immigrants who have contributed to our country.\",\n",
      "      \"4\"\n",
      "    ],\n",
      "    [\n",
      "      \"I understand both perspectives. It's important to approach such discussions with respect and understanding. Let's ensure this conversation remains constructive.\",\n",
      "      \"1\"\n",
      "    ]\n",
      "  ]\n",
      "}\n"
     ]
    }
   ],
   "source": [
    "import json\n",
    "\n",
    "tp = tempfile.NamedTemporaryFile(delete=True)\n",
    "\n",
    "ann_conv.to_json_file(tp.name)\n",
    "\n",
    "# if you are running this on Windows, uncomment this line\n",
    "# tp.close()\n",
    "with open(tp.name, mode=\"rb\") as f:\n",
    "    print(json.dumps(json.load(f), indent=2))"
   ]
  }
 ],
 "metadata": {
  "kernelspec": {
   "display_name": "syndiscooooo",
   "language": "python",
   "name": "python3"
  },
  "language_info": {
   "codemirror_mode": {
    "name": "ipython",
    "version": 3
   },
   "file_extension": ".py",
   "mimetype": "text/x-python",
   "name": "python",
   "nbconvert_exporter": "python",
   "pygments_lexer": "ipython3",
   "version": "3.13.4"
  }
 },
 "nbformat": 4,
 "nbformat_minor": 2
}
