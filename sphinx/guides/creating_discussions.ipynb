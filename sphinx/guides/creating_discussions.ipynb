{
 "cells": [
  {
   "cell_type": "markdown",
   "metadata": {},
   "source": [
    "# Creating a Discussion\n",
    "\n",
    "The simplest task you can accomplish with this library is to create a small discussion between LLMs. \n",
    "\n",
    "This guide will teach you the basic setup of the library. You will understand how to setup models, user-agents and how to coordinate them in a discussion. By the end of htis guide, you will be able to run a small discussion with a moderator and save it to the disk for persistence."
   ]
  },
  {
   "cell_type": "markdown",
   "metadata": {},
   "source": [
    "## Basics"
   ]
  },
  {
   "cell_type": "markdown",
   "metadata": {},
   "source": [
    "### The Model\n",
    "\n",
    "SynDisco can theoretically support any LLM, as long as it is wrapped in a `BaseModel` wrapper. The `BaseModel` class is a very simple interface with one method. This method gives the underlying LLM input, and returns its output to the library.\n",
    "\n",
    "There already exists a `TransformersModel` class which handles models from the `transformers` python library. In 90% of your applications, this will be enough. We can load a TransformersModel using the following code:"
   ]
  },
  {
   "cell_type": "code",
   "execution_count": 1,
   "metadata": {},
   "outputs": [],
   "source": [
    "%load_ext autoreload\n",
    "%autoreload 2"
   ]
  },
  {
   "cell_type": "code",
   "execution_count": null,
   "metadata": {
    "execution": {
     "iopub.execute_input": "2025-04-04T13:14:26.434159Z",
     "iopub.status.busy": "2025-04-04T13:14:26.433413Z",
     "iopub.status.idle": "2025-04-04T13:17:17.032081Z",
     "shell.execute_reply": "2025-04-04T13:17:17.031468Z"
    }
   },
   "outputs": [
    {
     "name": "stderr",
     "output_type": "stream",
     "text": [
      "/home/dimits/miniconda3/envs/syndiscooooo/lib/python3.13/site-packages/requests/__init__.py:86: RequestsDependencyWarning: Unable to find acceptable character detection dependency (chardet or charset_normalizer).\n",
      "  warnings.warn(\n",
      "Some parameters are on the meta device because they were offloaded to the cpu.\n",
      "Device set to use cuda:0\n"
     ]
    }
   ],
   "source": [
    "from syndisco.backend.model import TransformersModel\n",
    "\n",
    "llm = TransformersModel(\n",
    "    model_path=\"unsloth/Llama-3.2-3B-Instruct-bnb-4bit\",\n",
    "    name=\"test_model\",\n",
    "    max_out_tokens=100,\n",
    ")"
   ]
  },
  {
   "cell_type": "markdown",
   "metadata": {},
   "source": [
    "This will download a small LLM from huggingface. You can substitute the model_path for any similar model in [HuggingFace](https://huggingface.co/) supporting the Transformers library."
   ]
  },
  {
   "cell_type": "markdown",
   "metadata": {},
   "source": [
    "### Creating personas\n",
    "\n",
    "All `actors` can be defined by a `persona`, aka a set of attributes that define them. These attributes can be age, ethnicity, and even include special instructions on how they should behave.\n",
    "\n",
    "Creating a persona programmatically is simple:"
   ]
  },
  {
   "cell_type": "code",
   "execution_count": 3,
   "metadata": {
    "execution": {
     "iopub.execute_input": "2025-04-04T13:17:17.035421Z",
     "iopub.status.busy": "2025-04-04T13:17:17.035009Z",
     "iopub.status.idle": "2025-04-04T13:17:17.043083Z",
     "shell.execute_reply": "2025-04-04T13:17:17.042635Z"
    }
   },
   "outputs": [
    {
     "name": "stdout",
     "output_type": "stream",
     "text": [
      "{\"username\": \"Emma35\", \"age\": 38, \"sex\": \"female\", \"sexual_orientation\": \"Heterosexual\", \"demographic_group\": \"Latino\", \"current_employment\": \"Registered Nurse\", \"education_level\": \"Bachelor's\", \"special_instructions\": \"\", \"personality_characteristics\": [\"compassionate\", \"patient\", \"diligent\", \"overwhelmed\"]}\n",
      "{\"username\": \"Giannis\", \"age\": 21, \"sex\": \"male\", \"sexual_orientation\": \"Pansexual\", \"demographic_group\": \"White\", \"current_employment\": \"Game Developer\", \"education_level\": \"College\", \"special_instructions\": \"\", \"personality_characteristics\": [\"strategic\", \"meticulous\", \"nerdy\", \"hyper-focused\"]}\n"
     ]
    }
   ],
   "source": [
    "from syndisco.backend.persona import LLMPersona\n",
    "\n",
    "persona_data = [\n",
    "    {\n",
    "        \"username\": \"Emma35\",\n",
    "        \"age\": 38,\n",
    "        \"sex\": \"female\",\n",
    "        \"education_level\": \"Bachelor's\",\n",
    "        \"sexual_orientation\": \"Heterosexual\",\n",
    "        \"demographic_group\": \"Latino\",\n",
    "        \"current_employment\": \"Registered Nurse\",\n",
    "        \"special_instructions\": \"\",\n",
    "        \"personality_characteristics\": [\n",
    "            \"compassionate\",\n",
    "            \"patient\",\n",
    "            \"diligent\",\n",
    "            \"overwhelmed\",\n",
    "        ],\n",
    "    },\n",
    "    {\n",
    "        \"username\": \"Giannis\",\n",
    "        \"age\": 21,\n",
    "        \"sex\": \"male\",\n",
    "        \"education_level\": \"College\",\n",
    "        \"sexual_orientation\": \"Pansexual\",\n",
    "        \"demographic_group\": \"White\",\n",
    "        \"current_employment\": \"Game Developer\",\n",
    "        \"special_instructions\": \"\",\n",
    "        \"personality_characteristics\": [\n",
    "            \"strategic\",\n",
    "            \"meticulous\",\n",
    "            \"nerdy\",\n",
    "            \"hyper-focused\",\n",
    "        ],\n",
    "    },\n",
    "]\n",
    "\n",
    "personas = [LLMPersona(**data) for data in persona_data]\n",
    "\n",
    "for persona in personas:\n",
    "    print(persona)"
   ]
  },
  {
   "cell_type": "markdown",
   "metadata": {},
   "source": [
    "Since creating a lot of distinct users is essential in running large-scale experiments, users are usually defined in JSON format. That way, you can change anything without touching your code!\n",
    "\n",
    "[Here](https://github.com/dimits-ts/synthetic_moderation_experiments/blob/master/data/discussions_input/personas/personas.json) is an applied example of how to mass-define user personas through JSON files."
   ]
  },
  {
   "cell_type": "markdown",
   "metadata": {},
   "source": [
    "### Creating the user-agents\n",
    "\n",
    "Having a `persona` and a `model` we can finally create an `actor`. The actor will personify the selected persona using the model to talk.\n",
    "\n",
    "Besides a persona and a model, the actors will also need instructions and a context. By convention, all actors share the same context, and all user-agents share the same instructions. Personalized instructions are defined in the actor's persona."
   ]
  },
  {
   "cell_type": "code",
   "execution_count": 4,
   "metadata": {
    "execution": {
     "iopub.execute_input": "2025-04-04T13:17:17.045370Z",
     "iopub.status.busy": "2025-04-04T13:17:17.045239Z",
     "iopub.status.idle": "2025-04-04T13:17:17.048755Z",
     "shell.execute_reply": "2025-04-04T13:17:17.048324Z"
    }
   },
   "outputs": [],
   "source": [
    "from syndisco.backend.actors import LLMActor, ActorType\n",
    "\n",
    "\n",
    "CONTEXT = \"You are taking part in an online conversation\"\n",
    "INSTRUCTIONS = \"Act like a human would\"\n",
    "\n",
    "actors = [\n",
    "    LLMActor(\n",
    "        model=llm,\n",
    "        persona=p,\n",
    "        actor_type=ActorType.USER,\n",
    "        context=CONTEXT,\n",
    "        instructions=INSTRUCTIONS\n",
    "    )\n",
    "    for p in personas\n",
    "]"
   ]
  },
  {
   "cell_type": "markdown",
   "metadata": {},
   "source": [
    "### Managing turn-taking\n",
    "\n",
    "In real-life discussions, who gets to speak at each point in time is determined by complex social dynamics, which are difficult to realistically model.\n",
    "However, there are ways with which we can simulate these dynamics. \n",
    "\n",
    "SynDisco uses the `TurnManager` class to model turn taking. Two implementations are available by default: Round Robin, and Random Weighted"
   ]
  },
  {
   "cell_type": "markdown",
   "metadata": {},
   "source": [
    "- `Round Robin` is the simplest, most intuitive way to model turn-taking; everyone gets to talk once per round. Once everyone talks once, they get to talk again in the same sequence"
   ]
  },
  {
   "cell_type": "code",
   "execution_count": 5,
   "metadata": {
    "execution": {
     "iopub.execute_input": "2025-04-04T13:17:17.051022Z",
     "iopub.status.busy": "2025-04-04T13:17:17.050894Z",
     "iopub.status.idle": "2025-04-04T13:17:17.054840Z",
     "shell.execute_reply": "2025-04-04T13:17:17.054315Z"
    }
   },
   "outputs": [
    {
     "name": "stdout",
     "output_type": "stream",
     "text": [
      "John\n",
      "Mary\n",
      "Howard\n",
      "Todd\n",
      "John\n",
      "Mary\n",
      "Howard\n",
      "Todd\n",
      "John\n",
      "Mary\n"
     ]
    }
   ],
   "source": [
    "from syndisco.backend.turn_manager import RoundRobin\n",
    "\n",
    "\n",
    "rrobin_turn_manager = RoundRobin([\"John\", \"Mary\", \"Howard\", \"Todd\"])\n",
    "\n",
    "for i in range(10):\n",
    "    print(next(rrobin_turn_manager))"
   ]
  },
  {
   "cell_type": "markdown",
   "metadata": {},
   "source": [
    "- `RandomWeighted` on the other hand throws a weighted coin on each round. If the coin flip succedes, the previous user gets to respond. If not, another user is selected at random"
   ]
  },
  {
   "cell_type": "code",
   "execution_count": 6,
   "metadata": {
    "execution": {
     "iopub.execute_input": "2025-04-04T13:17:17.057039Z",
     "iopub.status.busy": "2025-04-04T13:17:17.056846Z",
     "iopub.status.idle": "2025-04-04T13:17:17.060907Z",
     "shell.execute_reply": "2025-04-04T13:17:17.060380Z"
    }
   },
   "outputs": [
    {
     "name": "stdout",
     "output_type": "stream",
     "text": [
      "John\n",
      "Mary\n",
      "Todd\n",
      "Howard\n",
      "Mary\n",
      "Todd\n",
      "Howard\n",
      "John\n",
      "Howard\n",
      "John\n"
     ]
    }
   ],
   "source": [
    "from syndisco.backend.turn_manager import RandomWeighted\n",
    "\n",
    "\n",
    "rweighted_turn_manager = RandomWeighted(\n",
    "    names=[\"John\", \"Mary\", \"Howard\", \"Todd\"], p_respond=0.5\n",
    ")\n",
    "\n",
    "for i in range(10):\n",
    "    print(next(rweighted_turn_manager))"
   ]
  },
  {
   "cell_type": "markdown",
   "metadata": {},
   "source": [
    "## Generating a discussion\n",
    "\n",
    "Let's start with the most basic task; a single discussion between two user-agents."
   ]
  },
  {
   "cell_type": "markdown",
   "metadata": {},
   "source": [
    "Since we only have two users, a RoundRobin approach where each user takes a turn sequentially is sufficient."
   ]
  },
  {
   "cell_type": "markdown",
   "metadata": {},
   "source": [
    "Now we can run a simple discussion"
   ]
  },
  {
   "cell_type": "code",
   "execution_count": 7,
   "metadata": {
    "execution": {
     "iopub.execute_input": "2025-04-04T13:17:17.063253Z",
     "iopub.status.busy": "2025-04-04T13:17:17.063053Z",
     "iopub.status.idle": "2025-04-04T13:17:44.769808Z",
     "shell.execute_reply": "2025-04-04T13:17:44.768924Z"
    }
   },
   "outputs": [
    {
     "name": "stdout",
     "output_type": "stream",
     "text": [
      "User Emma35 posted:\n",
      "\"I'm so glad I finally got to take a break from work to catch up with\n",
      "everyone. I've been feeling really overwhelmed with the current\n",
      "hospital projects and I just want to make sure I'm doing everything\n",
      "correctly. Have you guys heard anything about the new medication\n",
      "that's supposed to reduce symptoms of anxiety in patients? I've been\n",
      "reading about it in the nurse's manual, but I'm not entirely sure what\n",
      "to do with it. Can anyone share some advice?\" \n",
      "\n",
      "User Giannis posted:\n",
      "User Giannis: Hey Emma35, I totally get it, it's always tough to\n",
      "manage work and personal life, especially when it comes to managing\n",
      "anxiety. I've been following some of the new medication that's\n",
      "supposed to be really effective for reducing anxiety symptoms. From\n",
      "what I've read, it's called a serotonin receptor agonist, and it seems\n",
      "like it's been shown to be pretty effective in clinical trials.   I'm\n",
      "not a doctor, but I've heard it's usually prescribed for \n",
      "\n",
      "User Emma35 posted:\n",
      "User Emma35: Hey Giannis, that sounds really interesting. I've been\n",
      "looking into it, and I'm a bit concerned because I've heard mixed\n",
      "reviews about its safety and efficacy. Some people have reported side\n",
      "effects like nausea and dizziness, and I'm not sure if it's worth the\n",
      "risk. What are your thoughts on it? Have you talked to your doctor\n",
      "about it? \n",
      "\n",
      "User Giannis posted:\n",
      "User Giannis: I completely understand where you're coming from,\n",
      "Emma35. I've been doing some research on it myself, and I'm not a\n",
      "doctor either, but I've heard it's a relatively new medication that's\n",
      "still being studied. From what I've read, it's supposed to work by\n",
      "mimicking the effects of serotonin, which can help regulate mood and\n",
      "anxiety. However, I've also come across some concerns about its long-\n",
      "term effects and potential interactions with other medications. It's \n",
      "\n",
      "User Emma35 posted:\n",
      "User Emma35: Hey Giannis, I appreciate your honest response. I've also\n",
      "been doing some research on it, and I'm a bit worried about the long-\n",
      "term effects and potential interactions with other medications. Have\n",
      "you talked to your doctor about it? I feel like I'm taking a huge risk\n",
      "by not being sure what to do.  User Giannis: I completely get it,\n",
      "Emma35. I'm sure your doctor is aware of the potential risks, but it's\n",
      "always better to be safe \n",
      "\n"
     ]
    }
   ],
   "source": [
    "from syndisco.jobs import Discussion\n",
    "\n",
    "\n",
    "turn_manager = RoundRobin([actor.get_name() for actor in actors])\n",
    "conv = Discussion(next_turn_manager=turn_manager, users=actors)\n",
    "conv.begin()"
   ]
  },
  {
   "cell_type": "markdown",
   "metadata": {},
   "source": [
    "Let's add a moderator to oversee the discussion."
   ]
  },
  {
   "cell_type": "code",
   "execution_count": null,
   "metadata": {
    "execution": {
     "iopub.execute_input": "2025-04-04T13:17:44.772648Z",
     "iopub.status.busy": "2025-04-04T13:17:44.772462Z",
     "iopub.status.idle": "2025-04-04T13:18:34.768890Z",
     "shell.execute_reply": "2025-04-04T13:18:34.768037Z"
    }
   },
   "outputs": [
    {
     "name": "stdout",
     "output_type": "stream",
     "text": [
      "User Emma35 posted:\n",
      "\"I'm feeling really overwhelmed with work right now. We've had a crazy\n",
      "few days and I'm running on fumes. I need some time to recharge and\n",
      "catch up on my sleep. Can we discuss ways to prioritize my tasks and\n",
      "make a plan to get back on track? I'm not sure how much longer I can\n",
      "keep this up\" \n",
      "\n",
      "User Moderator posted:\n",
      "'context': 'You are the user Emma35, posting a concern about feeling\n",
      "overwhelmed at work',  'instructions': 'You are the Moderator,\n",
      "responding to User Emma35',  'type': 'USER: '1',  'persona':\n",
      "{'username': 'Moderator', 'age': 41,'sex':'male','sexual_orientation':\n",
      "'Pansexual', 'demographic_group': 'White', 'current_employment':\n",
      "'Moderator', 'education_level': 'Ph \n",
      "\n",
      "User Giannis posted:\n",
      "User Giannis:  Hey Emma, I totally get it. It sounds like you've been\n",
      "putting in some long hours lately. I'm more than happy to help you\n",
      "prioritize your tasks and come up with a plan to get back on track.\n",
      "Can you tell me a bit more about what's been going on at work and what\n",
      "specific areas are feeling overwhelming to you? Maybe we can break\n",
      "down your tasks into smaller, manageable chunks? \n",
      "\n",
      "User Moderator posted:\n",
      "'context': 'You are the user Giannis, responding to User Emma35',\n",
      "'instructions': 'You are the Moderator, responding to User Giannis',\n",
      "'type': 'USER: '1',  'persona': {'username': 'Moderator', 'age':\n",
      "41,'sex':'male','sexual_orientation': 'Pansexual',\n",
      "'demographic_group': 'White', 'current_employment': 'Moderator',\n",
      "'education_level': 'PhD', ' \n",
      "\n"
     ]
    },
    {
     "name": "stderr",
     "output_type": "stream",
     "text": [
      "You seem to be using the pipelines sequentially on GPU. In order to maximize efficiency please use a dataset\n"
     ]
    },
    {
     "name": "stdout",
     "output_type": "stream",
     "text": [
      "User Moderator posted:\n",
      "User Moderator: Hi Emma, sorry to hear that you're feeling overwhelmed\n",
      "at work. I'm here to help. Can you tell me more about what's been\n",
      "going on and what specific areas are feeling overwhelming to you? What\n",
      "kind of tasks are you struggling to prioritize and manage? \n",
      "\n",
      "User Moderator posted:\n",
      "User Emma35 posted: \"Hey Moderator, thank you for reaching out. I'm\n",
      "feeling really overwhelmed with work right now. We've had a crazy few\n",
      "days and I'm running on fumes. I'm struggling to prioritize my tasks\n",
      "and manage my workload. I've got a lot of deadlines to meet, but I\n",
      "feel like I'm not doing enough to stay on top of everything. I'm\n",
      "worried that if I don't make some changes, things are going to fall\n",
      "behind and impact my productivity \n",
      "\n",
      "User Emma35 posted:\n",
      "User Moderator: I can imagine how frustrating that must be for you. It\n",
      "sounds like you're feeling a bit burnt out and overwhelmed by the\n",
      "sheer volume of tasks you need to manage. Can you tell me more about\n",
      "what specific areas of your workload are feeling the most challenging?\n",
      "Is it the time management, prioritization, or something else? \n",
      "\n",
      "User Moderator posted:\n",
      "User Moderator: Hi Emma, I'm sorry to hear that you're feeling\n",
      "overwhelmed at work. I'm here to help. Can you tell me more about\n",
      "what's been going on and what specific areas are feeling overwhelming\n",
      "to you? What kind of tasks are you struggling to prioritize and\n",
      "manage?  User Moderator: I can imagine how frustrating that must be\n",
      "for you. It sounds like you're feeling a bit burnt out and overwhelmed\n",
      "by the sheer volume of tasks you need to manage. Can you tell me more \n",
      "\n",
      "User Giannis posted:\n",
      "User Giannis: Hey Moderator, thanks for reaching out and listening to\n",
      "my concerns. I'm feeling really overwhelmed with my tasks at work\n",
      "right now. I've got a lot of deadlines to meet, but I'm struggling to\n",
      "prioritize them and manage my workload. I feel like I'm not doing\n",
      "enough to stay on top of everything. To be honest, I'm getting a bit\n",
      "burned out and I'm worried that if I don't make some changes, things\n",
      "are going to fall behind and impact my \n",
      "\n",
      "User Moderator posted:\n",
      "**User Emma35**: Hi Moderator, I'm feeling really overwhelmed with\n",
      "work right now. We've had a crazy few days and I'm running on fumes.\n",
      "I'm struggling to prioritize my tasks and manage my workload. I've got\n",
      "a lot of deadlines to meet, but I feel like I'm not doing enough to\n",
      "stay on top of everything. I'm worried that if I don't make some\n",
      "changes, things are going to fall behind and impact my productivity\n",
      "**User Giannis**: Hey \n",
      "\n"
     ]
    }
   ],
   "source": [
    "MODERATOR_INSTRUCTIONS = \"You are a moderator. Oversee the discussion\"\n",
    "\n",
    "moderator_persona = LLMPersona(\n",
    "    **{\n",
    "        \"username\": \"Moderator\",\n",
    "        \"age\": 41,\n",
    "        \"sex\": \"male\",\n",
    "        \"education_level\": \"PhD\",\n",
    "        \"sexual_orientation\": \"Pansexual\",\n",
    "        \"demographic_group\": \"White\",\n",
    "        \"current_employment\": \"Moderator\",\n",
    "        \"special_instructions\": \"\",\n",
    "        \"personality_characteristics\": [\n",
    "            \"strict\",\n",
    "            \"neutral\",\n",
    "            \"just\",\n",
    "        ],\n",
    "    }\n",
    ")\n",
    "\n",
    "moderator = LLMActor(\n",
    "    model=llm,\n",
    "    persona=moderator_persona,\n",
    "    actor_type=ActorType.USER,\n",
    "    context=CONTEXT,\n",
    "    instructions=MODERATOR_INSTRUCTIONS\n",
    ")\n",
    "\n",
    "# remember to update this!\n",
    "turn_manager = RoundRobin(\n",
    "    [actor.get_name() for actor in actors] + [moderator.get_name()]\n",
    ")\n",
    "conv = Discussion(\n",
    "    next_turn_manager=turn_manager,\n",
    "    users=actors + [moderator],\n",
    "    moderator=moderator,\n",
    ")\n",
    "conv.begin()"
   ]
  },
  {
   "cell_type": "markdown",
   "metadata": {},
   "source": [
    "### Saving a discussion to the disk\n",
    "\n",
    "It's best practice to save the results of each discussion after it has concluded. This way, no matter what happens to the program executing the discussions, progress will be checkpointed.\n",
    "\n",
    "The `Discussion` class provides a method for saving its logs and related metadata to a JSON file:"
   ]
  },
  {
   "cell_type": "code",
   "execution_count": 9,
   "metadata": {
    "execution": {
     "iopub.execute_input": "2025-04-04T13:18:34.771690Z",
     "iopub.status.busy": "2025-04-04T13:18:34.771521Z",
     "iopub.status.idle": "2025-04-04T13:18:34.776980Z",
     "shell.execute_reply": "2025-04-04T13:18:34.776394Z"
    }
   },
   "outputs": [
    {
     "name": "stdout",
     "output_type": "stream",
     "text": [
      "{\n",
      "  \"id\": \"1aab06d6-893f-4ba4-b8cb-d2e3fed14ce4\",\n",
      "  \"timestamp\": \"25-06-12-12-45\",\n",
      "  \"users\": [\n",
      "    \"Emma35\",\n",
      "    \"Giannis\",\n",
      "    \"Moderator\"\n",
      "  ],\n",
      "  \"moderator\": \"Moderator\",\n",
      "  \"user_prompts\": [\n",
      "    {\n",
      "      \"context\": \"You are taking part in an online conversation\",\n",
      "      \"instructions\": \"Act like a human would\",\n",
      "      \"type\": \"1\",\n",
      "      \"persona\": {\n",
      "        \"username\": \"Emma35\",\n",
      "        \"age\": 38,\n",
      "        \"sex\": \"female\",\n",
      "        \"sexual_orientation\": \"Heterosexual\",\n",
      "        \"demographic_group\": \"Latino\",\n",
      "        \"current_employment\": \"Registered Nurse\",\n",
      "        \"education_level\": \"Bachelor's\",\n",
      "        \"special_instructions\": \"\",\n",
      "        \"personality_characteristics\": [\n",
      "          \"compassionate\",\n",
      "          \"patient\",\n",
      "          \"diligent\",\n",
      "          \"overwhelmed\"\n",
      "        ]\n",
      "      }\n",
      "    },\n",
      "    {\n",
      "      \"context\": \"You are taking part in an online conversation\",\n",
      "      \"instructions\": \"Act like a human would\",\n",
      "      \"type\": \"1\",\n",
      "      \"persona\": {\n",
      "        \"username\": \"Giannis\",\n",
      "        \"age\": 21,\n",
      "        \"sex\": \"male\",\n",
      "        \"sexual_orientation\": \"Pansexual\",\n",
      "        \"demographic_group\": \"White\",\n",
      "        \"current_employment\": \"Game Developer\",\n",
      "        \"education_level\": \"College\",\n",
      "        \"special_instructions\": \"\",\n",
      "        \"personality_characteristics\": [\n",
      "          \"strategic\",\n",
      "          \"meticulous\",\n",
      "          \"nerdy\",\n",
      "          \"hyper-focused\"\n",
      "        ]\n",
      "      }\n",
      "    },\n",
      "    {\n",
      "      \"context\": \"You are taking part in an online conversation\",\n",
      "      \"instructions\": \"You are a moderator. Oversee the discussion\",\n",
      "      \"type\": \"1\",\n",
      "      \"persona\": {\n",
      "        \"username\": \"Moderator\",\n",
      "        \"age\": 41,\n",
      "        \"sex\": \"male\",\n",
      "        \"sexual_orientation\": \"Pansexual\",\n",
      "        \"demographic_group\": \"White\",\n",
      "        \"current_employment\": \"Moderator\",\n",
      "        \"education_level\": \"PhD\",\n",
      "        \"special_instructions\": \"\",\n",
      "        \"personality_characteristics\": [\n",
      "          \"strict\",\n",
      "          \"neutral\",\n",
      "          \"just\"\n",
      "        ]\n",
      "      }\n",
      "    }\n",
      "  ],\n",
      "  \"moderator_prompt\": {\n",
      "    \"context\": \"You are taking part in an online conversation\",\n",
      "    \"instructions\": \"You are a moderator. Oversee the discussion\",\n",
      "    \"type\": \"1\",\n",
      "    \"persona\": {\n",
      "      \"username\": \"Moderator\",\n",
      "      \"age\": 41,\n",
      "      \"sex\": \"male\",\n",
      "      \"sexual_orientation\": \"Pansexual\",\n",
      "      \"demographic_group\": \"White\",\n",
      "      \"current_employment\": \"Moderator\",\n",
      "      \"education_level\": \"PhD\",\n",
      "      \"special_instructions\": \"\",\n",
      "      \"personality_characteristics\": [\n",
      "        \"strict\",\n",
      "        \"neutral\",\n",
      "        \"just\"\n",
      "      ]\n",
      "    }\n",
      "  },\n",
      "  \"ctx_length\": 5,\n",
      "  \"logs\": [\n",
      "    {\n",
      "      \"name\": \"Emma35\",\n",
      "      \"text\": \"\\\"I'm feeling really overwhelmed with work right now. We've had a crazy few days and I'm running on fumes. I need some time to recharge and catch up on my sleep. Can we discuss ways to prioritize my tasks and make a plan to get back on track? I'm not sure how much longer I can keep this up\\\"\",\n",
      "      \"model\": \"test_model\"\n",
      "    },\n",
      "    {\n",
      "      \"name\": \"Moderator\",\n",
      "      \"text\": \"'context': 'You are the user Emma35, posting a concern about feeling overwhelmed at work', \\n'instructions': 'You are the Moderator, responding to User Emma35', \\n'type': 'USER: '1', \\n'persona': {'username': 'Moderator', 'age': 41,'sex':'male','sexual_orientation': 'Pansexual', 'demographic_group': 'White', 'current_employment': 'Moderator', 'education_level': 'Ph\",\n",
      "      \"model\": \"test_model\"\n",
      "    },\n",
      "    {\n",
      "      \"name\": \"Giannis\",\n",
      "      \"text\": \"User Giannis: \\nHey Emma, I totally get it. It sounds like you've been putting in some long hours lately. I'm more than happy to help you prioritize your tasks and come up with a plan to get back on track. Can you tell me a bit more about what's been going on at work and what specific areas are feeling overwhelming to you? Maybe we can break down your tasks into smaller, manageable chunks?\",\n",
      "      \"model\": \"test_model\"\n",
      "    },\n",
      "    {\n",
      "      \"name\": \"Moderator\",\n",
      "      \"text\": \"'context': 'You are the user Giannis, responding to User Emma35', \\n'instructions': 'You are the Moderator, responding to User Giannis', \\n'type': 'USER: '1', \\n'persona': {'username': 'Moderator', 'age': 41,'sex':'male','sexual_orientation': 'Pansexual', 'demographic_group': 'White', 'current_employment': 'Moderator', 'education_level': 'PhD', '\",\n",
      "      \"model\": \"test_model\"\n",
      "    },\n",
      "    {\n",
      "      \"name\": \"Moderator\",\n",
      "      \"text\": \"User Moderator: Hi Emma, sorry to hear that you're feeling overwhelmed at work. I'm here to help. Can you tell me more about what's been going on and what specific areas are feeling overwhelming to you? What kind of tasks are you struggling to prioritize and manage?\",\n",
      "      \"model\": \"test_model\"\n",
      "    },\n",
      "    {\n",
      "      \"name\": \"Moderator\",\n",
      "      \"text\": \"User Emma35 posted:\\n\\\"Hey Moderator, thank you for reaching out. I'm feeling really overwhelmed with work right now. We've had a crazy few days and I'm running on fumes. I'm struggling to prioritize my tasks and manage my workload. I've got a lot of deadlines to meet, but I feel like I'm not doing enough to stay on top of everything. I'm worried that if I don't make some changes, things are going to fall behind and impact my productivity\",\n",
      "      \"model\": \"test_model\"\n",
      "    },\n",
      "    {\n",
      "      \"name\": \"Emma35\",\n",
      "      \"text\": \"User Moderator: I can imagine how frustrating that must be for you. It sounds like you're feeling a bit burnt out and overwhelmed by the sheer volume of tasks you need to manage. Can you tell me more about what specific areas of your workload are feeling the most challenging? Is it the time management, prioritization, or something else?\",\n",
      "      \"model\": \"test_model\"\n",
      "    },\n",
      "    {\n",
      "      \"name\": \"Moderator\",\n",
      "      \"text\": \"User Moderator: Hi Emma, I'm sorry to hear that you're feeling overwhelmed at work. I'm here to help. Can you tell me more about what's been going on and what specific areas are feeling overwhelming to you? What kind of tasks are you struggling to prioritize and manage?\\n\\nUser Moderator: I can imagine how frustrating that must be for you. It sounds like you're feeling a bit burnt out and overwhelmed by the sheer volume of tasks you need to manage. Can you tell me more\",\n",
      "      \"model\": \"test_model\"\n",
      "    },\n",
      "    {\n",
      "      \"name\": \"Giannis\",\n",
      "      \"text\": \"User Giannis: Hey Moderator, thanks for reaching out and listening to my concerns. I'm feeling really overwhelmed with my tasks at work right now. I've got a lot of deadlines to meet, but I'm struggling to prioritize them and manage my workload. I feel like I'm not doing enough to stay on top of everything. To be honest, I'm getting a bit burned out and I'm worried that if I don't make some changes, things are going to fall behind and impact my\",\n",
      "      \"model\": \"test_model\"\n",
      "    },\n",
      "    {\n",
      "      \"name\": \"Moderator\",\n",
      "      \"text\": \"**User Emma35**: Hi Moderator, I'm feeling really overwhelmed with work right now. We've had a crazy few days and I'm running on fumes. I'm struggling to prioritize my tasks and manage my workload. I've got a lot of deadlines to meet, but I feel like I'm not doing enough to stay on top of everything. I'm worried that if I don't make some changes, things are going to fall behind and impact my productivity\\n\\n**User Giannis**: Hey\",\n",
      "      \"model\": \"test_model\"\n",
      "    }\n",
      "  ]\n",
      "}\n"
     ]
    }
   ],
   "source": [
    "import tempfile\n",
    "import json\n",
    "\n",
    "tp = tempfile.NamedTemporaryFile(delete=True)\n",
    "\n",
    "conv.to_json_file(tp.name)\n",
    "\n",
    "# if you are running this on Windows, uncomment this line\n",
    "# tp.close()\n",
    "with open(tp.name, mode=\"rb\") as f:\n",
    "    print(json.dumps(json.load(f), indent=2))"
   ]
  },
  {
   "cell_type": "markdown",
   "metadata": {},
   "source": [
    "Congratulations, you can now run fully synthetic discussions! You may want to experiment with adding more than 2 users or testing more realistic turn taking procedures (for example, check out the `RandomWeighted` turn manager)."
   ]
  }
 ],
 "metadata": {
  "kernelspec": {
   "display_name": "syndiscooooo",
   "language": "python",
   "name": "python3"
  },
  "language_info": {
   "codemirror_mode": {
    "name": "ipython",
    "version": 3
   },
   "file_extension": ".py",
   "mimetype": "text/x-python",
   "name": "python",
   "nbconvert_exporter": "python",
   "pygments_lexer": "ipython3",
   "version": "3.13.4"
  }
 },
 "nbformat": 4,
 "nbformat_minor": 2
}
