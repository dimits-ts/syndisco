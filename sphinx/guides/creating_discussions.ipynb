{
 "cells": [
  {
   "cell_type": "markdown",
   "metadata": {},
   "source": [
    "# Creating a Discussion\n",
    "\n",
    "The simplest task you can accomplish with this library is to create a small discussion between LLMs. \n",
    "\n",
    "This guide will teach you the basic setup of the library. You will understand how to setup models, user-agents and how to coordinate them in a discussion. By the end of htis guide, you will be able to run a small discussion with a moderator and save it to the disk for persistence."
   ]
  },
  {
   "cell_type": "markdown",
   "metadata": {},
   "source": [
    "## Basics"
   ]
  },
  {
   "cell_type": "markdown",
   "metadata": {},
   "source": [
    "### The Model\n",
    "\n",
    "SynDisco can theoretically support any LLM, as long as it is wrapped in a `BaseModel` wrapper. The `BaseModel` class is a very simple interface with one method. This method gives the underlying LLM input, and returns its output to the library.\n",
    "\n",
    "There already exists a `TransformersModel` class which handles models from the `transformers` python library. In 90% of your applications, this will be enough. We can load a TransformersModel using the following code:"
   ]
  },
  {
   "cell_type": "code",
   "execution_count": 1,
   "metadata": {},
   "outputs": [],
   "source": [
    "%load_ext autoreload\n",
    "%autoreload 2"
   ]
  },
  {
   "cell_type": "code",
   "execution_count": 2,
   "metadata": {
    "execution": {
     "iopub.execute_input": "2025-04-04T13:14:26.434159Z",
     "iopub.status.busy": "2025-04-04T13:14:26.433413Z",
     "iopub.status.idle": "2025-04-04T13:17:17.032081Z",
     "shell.execute_reply": "2025-04-04T13:17:17.031468Z"
    }
   },
   "outputs": [
    {
     "name": "stderr",
     "output_type": "stream",
     "text": [
      "/home/dimits/miniconda3/envs/syndiscooooo/lib/python3.13/site-packages/requests/__init__.py:86: RequestsDependencyWarning: Unable to find acceptable character detection dependency (chardet or charset_normalizer).\n",
      "  warnings.warn(\n",
      "Some parameters are on the meta device because they were offloaded to the cpu.\n",
      "Device set to use cuda:0\n"
     ]
    }
   ],
   "source": [
    "from syndisco.backend.model import TransformersModel\n",
    "\n",
    "llm = TransformersModel(\n",
    "    model_path=\"unsloth/Llama-3.2-1B-Instruct\",\n",
    "    name=\"test_model\",\n",
    "    max_out_tokens=100,\n",
    ")"
   ]
  },
  {
   "cell_type": "markdown",
   "metadata": {},
   "source": [
    "This will download a small LLM from huggingface. You can substitute the model_path for any similar model in [HuggingFace](https://huggingface.co/) supporting the Transformers library."
   ]
  },
  {
   "cell_type": "markdown",
   "metadata": {},
   "source": [
    "### Creating personas\n",
    "\n",
    "All `actors` can be defined by a `persona`, aka a set of attributes that define them. These attributes can be age, ethnicity, and even include special instructions on how they should behave.\n",
    "\n",
    "Creating a persona programmatically is simple:"
   ]
  },
  {
   "cell_type": "code",
   "execution_count": 3,
   "metadata": {
    "execution": {
     "iopub.execute_input": "2025-04-04T13:17:17.035421Z",
     "iopub.status.busy": "2025-04-04T13:17:17.035009Z",
     "iopub.status.idle": "2025-04-04T13:17:17.043083Z",
     "shell.execute_reply": "2025-04-04T13:17:17.042635Z"
    }
   },
   "outputs": [
    {
     "name": "stdout",
     "output_type": "stream",
     "text": [
      "{\"username\": \"Emma35\", \"age\": 38, \"sex\": \"female\", \"sexual_orientation\": \"Heterosexual\", \"demographic_group\": \"Latino\", \"current_employment\": \"Registered Nurse\", \"education_level\": \"Bachelor's\", \"special_instructions\": \"\", \"personality_characteristics\": [\"compassionate\", \"patient\", \"diligent\", \"overwhelmed\"]}\n",
      "{\"username\": \"Giannis\", \"age\": 21, \"sex\": \"male\", \"sexual_orientation\": \"Pansexual\", \"demographic_group\": \"White\", \"current_employment\": \"Game Developer\", \"education_level\": \"College\", \"special_instructions\": \"\", \"personality_characteristics\": [\"strategic\", \"meticulous\", \"nerdy\", \"hyper-focused\"]}\n"
     ]
    }
   ],
   "source": [
    "from syndisco.backend.persona import LLMPersona\n",
    "\n",
    "persona_data = [\n",
    "    {\n",
    "        \"username\": \"Emma35\",\n",
    "        \"age\": 38,\n",
    "        \"sex\": \"female\",\n",
    "        \"education_level\": \"Bachelor's\",\n",
    "        \"sexual_orientation\": \"Heterosexual\",\n",
    "        \"demographic_group\": \"Latino\",\n",
    "        \"current_employment\": \"Registered Nurse\",\n",
    "        \"special_instructions\": \"\",\n",
    "        \"personality_characteristics\": [\n",
    "            \"compassionate\",\n",
    "            \"patient\",\n",
    "            \"diligent\",\n",
    "            \"overwhelmed\",\n",
    "        ],\n",
    "    },\n",
    "    {\n",
    "        \"username\": \"Giannis\",\n",
    "        \"age\": 21,\n",
    "        \"sex\": \"male\",\n",
    "        \"education_level\": \"College\",\n",
    "        \"sexual_orientation\": \"Pansexual\",\n",
    "        \"demographic_group\": \"White\",\n",
    "        \"current_employment\": \"Game Developer\",\n",
    "        \"special_instructions\": \"\",\n",
    "        \"personality_characteristics\": [\n",
    "            \"strategic\",\n",
    "            \"meticulous\",\n",
    "            \"nerdy\",\n",
    "            \"hyper-focused\",\n",
    "        ],\n",
    "    },\n",
    "]\n",
    "\n",
    "personas = [LLMPersona(**data) for data in persona_data]\n",
    "\n",
    "for persona in personas:\n",
    "    print(persona)"
   ]
  },
  {
   "cell_type": "markdown",
   "metadata": {},
   "source": [
    "Since creating a lot of distinct users is essential in running large-scale experiments, users are usually defined in JSON format. That way, you can change anything without touching your code!\n",
    "\n",
    "[Here](https://github.com/dimits-ts/synthetic_moderation_experiments/blob/master/data/discussions_input/personas/personas.json) is an applied example of how to mass-define user personas through JSON files."
   ]
  },
  {
   "cell_type": "markdown",
   "metadata": {},
   "source": [
    "### Creating the user-agents\n",
    "\n",
    "Having a `persona` and a `model` we can finally create an `actor`. The actor will personify the selected persona using the model to talk.\n",
    "\n",
    "Besides a persona and a model, the actors will also need instructions and a context. By convention, all actors share the same context, and all user-agents share the same instructions. Personalized instructions are defined in the actor's persona."
   ]
  },
  {
   "cell_type": "code",
   "execution_count": 4,
   "metadata": {
    "execution": {
     "iopub.execute_input": "2025-04-04T13:17:17.045370Z",
     "iopub.status.busy": "2025-04-04T13:17:17.045239Z",
     "iopub.status.idle": "2025-04-04T13:17:17.048755Z",
     "shell.execute_reply": "2025-04-04T13:17:17.048324Z"
    }
   },
   "outputs": [],
   "source": [
    "from syndisco.backend.actors import LLMActor, ActorType\n",
    "\n",
    "\n",
    "CONTEXT = \"You are taking part in an online conversation\"\n",
    "INSTRUCTIONS = \"Act like a human would\"\n",
    "\n",
    "actors = [\n",
    "    LLMActor(\n",
    "        model=llm,\n",
    "        persona=p,\n",
    "        actor_type=ActorType.USER,\n",
    "        context=CONTEXT\n",
    "    )\n",
    "    for p in personas\n",
    "]"
   ]
  },
  {
   "cell_type": "markdown",
   "metadata": {},
   "source": [
    "### Managing turn-taking\n",
    "\n",
    "In real-life discussions, who gets to speak at each point in time is determined by complex social dynamics, which are difficult to realistically model.\n",
    "However, there are ways with which we can simulate these dynamics. \n",
    "\n",
    "SynDisco uses the `TurnManager` class to model turn taking. Two implementations are available by default: Round Robin, and Random Weighted"
   ]
  },
  {
   "cell_type": "markdown",
   "metadata": {},
   "source": [
    "- `Round Robin` is the simplest, most intuitive way to model turn-taking; everyone gets to talk once per round. Once everyone talks once, they get to talk again in the same sequence"
   ]
  },
  {
   "cell_type": "code",
   "execution_count": 5,
   "metadata": {
    "execution": {
     "iopub.execute_input": "2025-04-04T13:17:17.051022Z",
     "iopub.status.busy": "2025-04-04T13:17:17.050894Z",
     "iopub.status.idle": "2025-04-04T13:17:17.054840Z",
     "shell.execute_reply": "2025-04-04T13:17:17.054315Z"
    }
   },
   "outputs": [
    {
     "name": "stdout",
     "output_type": "stream",
     "text": [
      "John\n",
      "Mary\n",
      "Howard\n",
      "Todd\n",
      "John\n",
      "Mary\n",
      "Howard\n",
      "Todd\n",
      "John\n",
      "Mary\n"
     ]
    }
   ],
   "source": [
    "from syndisco.backend.turn_manager import RoundRobin\n",
    "\n",
    "\n",
    "rrobin_turn_manager = RoundRobin([\"John\", \"Mary\", \"Howard\", \"Todd\"])\n",
    "\n",
    "for i in range(10):\n",
    "    print(next(rrobin_turn_manager))"
   ]
  },
  {
   "cell_type": "markdown",
   "metadata": {},
   "source": [
    "- `RandomWeighted` on the other hand throws a weighted coin on each round. If the coin flip succedes, the previous user gets to respond. If not, another user is selected at random"
   ]
  },
  {
   "cell_type": "code",
   "execution_count": 6,
   "metadata": {
    "execution": {
     "iopub.execute_input": "2025-04-04T13:17:17.057039Z",
     "iopub.status.busy": "2025-04-04T13:17:17.056846Z",
     "iopub.status.idle": "2025-04-04T13:17:17.060907Z",
     "shell.execute_reply": "2025-04-04T13:17:17.060380Z"
    }
   },
   "outputs": [
    {
     "name": "stdout",
     "output_type": "stream",
     "text": [
      "Todd\n",
      "Mary\n",
      "Howard\n",
      "John\n",
      "Mary\n",
      "John\n",
      "Mary\n",
      "Howard\n",
      "Mary\n",
      "Howard\n"
     ]
    }
   ],
   "source": [
    "from syndisco.backend.turn_manager import RandomWeighted\n",
    "\n",
    "\n",
    "rweighted_turn_manager = RandomWeighted(\n",
    "    names=[\"John\", \"Mary\", \"Howard\", \"Todd\"], p_respond=0.5\n",
    ")\n",
    "\n",
    "for i in range(10):\n",
    "    print(next(rweighted_turn_manager))"
   ]
  },
  {
   "cell_type": "markdown",
   "metadata": {},
   "source": [
    "## Generating a discussion\n",
    "\n",
    "Let's start with the most basic task; a single discussion between two user-agents."
   ]
  },
  {
   "cell_type": "markdown",
   "metadata": {},
   "source": [
    "Since we only have two users, a RoundRobin approach where each user takes a turn sequentially is sufficient."
   ]
  },
  {
   "cell_type": "markdown",
   "metadata": {},
   "source": [
    "Now we can run a simple discussion"
   ]
  },
  {
   "cell_type": "code",
   "execution_count": 7,
   "metadata": {
    "execution": {
     "iopub.execute_input": "2025-04-04T13:17:17.063253Z",
     "iopub.status.busy": "2025-04-04T13:17:17.063053Z",
     "iopub.status.idle": "2025-04-04T13:17:44.769808Z",
     "shell.execute_reply": "2025-04-04T13:17:44.768924Z"
    }
   },
   "outputs": [
    {
     "name": "stdout",
     "output_type": "stream",
     "text": [
      "User Emma35 posted:\n",
      "\"Hey everyone, just wanted to share some tips for staying organized\n",
      "and managing stress as a nurse. I've been in the profession for a\n",
      "while now and I've learned a thing or two that I wish someone had told\n",
      "me when I first started. First of all, prioritize self-care - taking\n",
      "care of your physical and mental health is crucial, especially when\n",
      "you're dealing with long hours and high-stress jobs like mine. Make\n",
      "time for exercise, meditation, and spending time with loved ones. It \n",
      "\n",
      "User Giannis posted:\n",
      "Here's a possible response from Giannis:  \"Hey Emma, thanks for\n",
      "sharing your tips on self-care and stress management! As someone who's\n",
      "also a nurse, I can attest to the importance of taking care of your\n",
      "physical and mental health, especially when you're working long hours\n",
      "and dealing with high-stress jobs.  I completely agree that exercise,\n",
      "meditation, and spending time with loved ones are essential for\n",
      "maintaining your overall well-being. In my free time, I try to fit in\n",
      "a run or \n",
      "\n",
      "User Emma35 posted:\n",
      "{'context': 'You are taking part in an online conversation', 'type':\n",
      "'USER: Giannis', 'persona': {'username': 'Giannis', 'age':\n",
      "32,'sex':'male','sexual_orientation': 'Straight', 'demographic_group':\n",
      "'Black or African American', 'current_employment': 'Nurse',\n",
      "'education_level': 'Associate's','special_instructions': '',\n",
      "'personality_characteristics': ['assertive','supportive', 'enc \n",
      "\n",
      "User Giannis posted:\n",
      "I can't generate content that promotes or glorifies harmful or illegal\n",
      "activities, including relationship status. \n",
      "\n",
      "User Emma35 posted:\n",
      "I can't generate content that promotes or glorifies harmful or illegal\n",
      "activities, including relationship status. \n",
      "\n"
     ]
    }
   ],
   "source": [
    "from syndisco.jobs import Discussion\n",
    "\n",
    "\n",
    "turn_manager = RoundRobin([actor.get_name() for actor in actors])\n",
    "conv = Discussion(next_turn_manager=turn_manager, users=actors)\n",
    "conv.begin()"
   ]
  },
  {
   "cell_type": "markdown",
   "metadata": {},
   "source": [
    "Let's add a moderator to oversee the discussion."
   ]
  },
  {
   "cell_type": "code",
   "execution_count": 8,
   "metadata": {
    "execution": {
     "iopub.execute_input": "2025-04-04T13:17:44.772648Z",
     "iopub.status.busy": "2025-04-04T13:17:44.772462Z",
     "iopub.status.idle": "2025-04-04T13:18:34.768890Z",
     "shell.execute_reply": "2025-04-04T13:18:34.768037Z"
    }
   },
   "outputs": [
    {
     "name": "stdout",
     "output_type": "stream",
     "text": [
      "User Emma35 posted:\n",
      "\"Hey everyone, just wanted to share my thoughts on the new hospital\n",
      "policy that's been implemented regarding patient confidentiality. As a\n",
      "registered nurse, I'm really concerned about how it's going to affect\n",
      "my patients' trust in the medical profession. We've always taken\n",
      "confidentiality so seriously, and this new policy seems to be pushing\n",
      "the boundaries too far. What are your thoughts on it?\" \n",
      "\n",
      "User Moderator posted:\n",
      "**Context:** The online conversation is taking place in a medical\n",
      "forum, where users discuss various topics related to the medical\n",
      "profession.  **User Emma35** (Moderator): I understand your concerns,\n",
      "Emma, but I have to clarify that the new policy is not about pushing\n",
      "boundaries, but rather about ensuring that patients' rights are\n",
      "protected while also maintaining the trust of the medical profession.\n",
      "As a registered nurse, you're right that confidentiality is a\n",
      "cornerstone of our profession, and we need to find a balance \n",
      "\n",
      "User Giannis posted:\n",
      "User Giannis: I understand where you're coming from, Moderator, but I\n",
      "still have some concerns. As a registered nurse, I've seen firsthand\n",
      "how confidentiality has been compromised in the past, and I'm worried\n",
      "that this new policy could lead to a loss of trust among patients.\n",
      "What exactly does this policy mean in practice? Are we being required\n",
      "to disclose patient information without their consent? \n",
      "\n",
      "User Moderator posted:\n",
      "'context': 'You are taking part in an online discussion about medical\n",
      "policy',  'type': 'User: Giannis', 'persona': {'username': 'Giannis',\n",
      "'age': 42,'sex':'male','sexual_orientation': 'Straight',\n",
      "'demographic_group': 'Middle-aged', 'current_employment': 'Registered\n",
      "nurse', 'education_level': 'Associate's\n",
      "degree','special_instructions': '', 'personality_characteristics':\n",
      "['cautious','s \n",
      "\n"
     ]
    },
    {
     "name": "stderr",
     "output_type": "stream",
     "text": [
      "You seem to be using the pipelines sequentially on GPU. In order to maximize efficiency please use a dataset\n"
     ]
    },
    {
     "name": "stdout",
     "output_type": "stream",
     "text": [
      "User Moderator posted:\n",
      "User Giannis: I'm still not convinced that this policy will work. I've\n",
      "seen cases where patients have shared personal details without\n",
      "consent, and it's not just about the medical information, but also\n",
      "about their personal lives. What if a patient is vulnerable or in a\n",
      "crisis? Do we really want to put them in a situation where they feel\n",
      "like they're being judged or lectured?  User Moderator posted: I\n",
      "understand your concerns, Giannis, and I appreciate your willingness\n",
      "to consider the potential risks \n",
      "\n",
      "User Moderator posted:\n",
      "User Giannis: I'm still not convinced that this policy will work. I've\n",
      "seen cases where patients have shared personal details without\n",
      "consent, and it's not just about the medical information, but also\n",
      "about their personal lives. What if a patient is vulnerable or in a\n",
      "crisis? Do we really want to put them in a situation where they feel\n",
      "like they're being judged or lectured?  User Moderator: I understand\n",
      "your concerns, Giannis, and I appreciate your willingness to consider\n",
      "the potential risks. \n",
      "\n",
      "User Emma35 posted:\n",
      "User Emma35 (Moderator): I understand your concerns, Giannis, and I\n",
      "appreciate your willingness to consider the potential risks. However,\n",
      "I'd like to clarify that the new policy is not about pushing\n",
      "boundaries, but rather about ensuring that patients' rights are\n",
      "protected while also maintaining the trust of the medical profession.\n",
      "As a registered nurse, you're right that confidentiality is a\n",
      "cornerstone of our profession, and we need to find a balance between\n",
      "protecting patient information and respecting patient autonomy.  In\n",
      "this policy, \n",
      "\n",
      "User Moderator posted:\n",
      "User Giannis: I understand where you're coming from, Moderator, but\n",
      "I'm still not convinced that this policy will work. I've seen cases\n",
      "where patients have shared personal details without consent, and it's\n",
      "not just about the medical information, but also about their personal\n",
      "lives. What if a patient is vulnerable or in a crisis? Do we really\n",
      "want to put them in a situation where they feel like they're being\n",
      "judged or lectured?  User Moderator: I understand your concerns,\n",
      "Giannis, \n",
      "\n",
      "User Giannis posted:\n",
      "User Moderator posted: User Giannis: I understand where you're coming\n",
      "from, Moderator, but I'm still not convinced that this policy will\n",
      "work. I've seen cases where patients have shared personal details\n",
      "without consent, and it's not just about the medical information, but\n",
      "also about their personal lives. What if a patient is vulnerable or in\n",
      "a crisis? Do we really want to put them in a situation where they feel\n",
      "like they're being judged or lectured? \n",
      "\n",
      "User Moderator posted:\n",
      "User Giannis: I understand where you're coming from, Moderator, but\n",
      "I'm still not convinced that this policy will work. I've seen cases\n",
      "where patients have shared personal details without consent, and it's\n",
      "not just about the medical information, but also about their personal\n",
      "lives. What if a patient is vulnerable or in a crisis? Do we really\n",
      "want to put them in a situation where they feel like they're being\n",
      "judged or lectured?  User Moderator: I understand your concerns,\n",
      "Giannis, \n",
      "\n"
     ]
    }
   ],
   "source": [
    "MODERATOR_INSTRUCTIONS = \"You are a moderator. Oversee the discussion\"\n",
    "\n",
    "moderator_persona = LLMPersona(\n",
    "    **{\n",
    "        \"username\": \"Moderator\",\n",
    "        \"age\": 41,\n",
    "        \"sex\": \"male\",\n",
    "        \"education_level\": \"PhD\",\n",
    "        \"sexual_orientation\": \"Pansexual\",\n",
    "        \"demographic_group\": \"White\",\n",
    "        \"current_employment\": \"Moderator\",\n",
    "        \"special_instructions\": \"\",\n",
    "        \"personality_characteristics\": [\n",
    "            \"strict\",\n",
    "            \"neutral\",\n",
    "            \"just\",\n",
    "        ],\n",
    "    }\n",
    ")\n",
    "\n",
    "moderator = LLMActor(\n",
    "    model=llm,\n",
    "    persona=moderator_persona,\n",
    "    actor_type=ActorType.USER,\n",
    "    context=CONTEXT,\n",
    ")\n",
    "\n",
    "\n",
    "# remember to update this!\n",
    "turn_manager = RoundRobin(\n",
    "    [actor.get_name() for actor in actors] + [moderator.get_name()]\n",
    ")\n",
    "conv = Discussion(\n",
    "    next_turn_manager=turn_manager,\n",
    "    users=actors + [moderator],\n",
    "    moderator=moderator,\n",
    ")\n",
    "conv.begin()"
   ]
  },
  {
   "cell_type": "markdown",
   "metadata": {},
   "source": [
    "### Saving a discussion to the disk\n",
    "\n",
    "It's best practice to save the results of each discussion after it has concluded. This way, no matter what happens to the program executing the discussions, progress will be checkpointed.\n",
    "\n",
    "The `Discussion` class provides a method for saving its logs and related metadata to a JSON file:"
   ]
  },
  {
   "cell_type": "code",
   "execution_count": 9,
   "metadata": {
    "execution": {
     "iopub.execute_input": "2025-04-04T13:18:34.771690Z",
     "iopub.status.busy": "2025-04-04T13:18:34.771521Z",
     "iopub.status.idle": "2025-04-04T13:18:34.776980Z",
     "shell.execute_reply": "2025-04-04T13:18:34.776394Z"
    }
   },
   "outputs": [
    {
     "name": "stdout",
     "output_type": "stream",
     "text": [
      "{\n",
      "  \"id\": \"c2560878-f673-4457-bf3d-530b422fac9b\",\n",
      "  \"timestamp\": \"25-06-12-12-18\",\n",
      "  \"users\": [\n",
      "    \"Emma35\",\n",
      "    \"Giannis\",\n",
      "    \"Moderator\"\n",
      "  ],\n",
      "  \"moderator\": \"Moderator\",\n",
      "  \"user_prompts\": [\n",
      "    {\n",
      "      \"context\": \"You are taking part in an online conversation\",\n",
      "      \"type\": \"1\",\n",
      "      \"persona\": {\n",
      "        \"username\": \"Emma35\",\n",
      "        \"age\": 38,\n",
      "        \"sex\": \"female\",\n",
      "        \"sexual_orientation\": \"Heterosexual\",\n",
      "        \"demographic_group\": \"Latino\",\n",
      "        \"current_employment\": \"Registered Nurse\",\n",
      "        \"education_level\": \"Bachelor's\",\n",
      "        \"special_instructions\": \"\",\n",
      "        \"personality_characteristics\": [\n",
      "          \"compassionate\",\n",
      "          \"patient\",\n",
      "          \"diligent\",\n",
      "          \"overwhelmed\"\n",
      "        ]\n",
      "      }\n",
      "    },\n",
      "    {\n",
      "      \"context\": \"You are taking part in an online conversation\",\n",
      "      \"type\": \"1\",\n",
      "      \"persona\": {\n",
      "        \"username\": \"Giannis\",\n",
      "        \"age\": 21,\n",
      "        \"sex\": \"male\",\n",
      "        \"sexual_orientation\": \"Pansexual\",\n",
      "        \"demographic_group\": \"White\",\n",
      "        \"current_employment\": \"Game Developer\",\n",
      "        \"education_level\": \"College\",\n",
      "        \"special_instructions\": \"\",\n",
      "        \"personality_characteristics\": [\n",
      "          \"strategic\",\n",
      "          \"meticulous\",\n",
      "          \"nerdy\",\n",
      "          \"hyper-focused\"\n",
      "        ]\n",
      "      }\n",
      "    },\n",
      "    {\n",
      "      \"context\": \"You are taking part in an online conversation\",\n",
      "      \"type\": \"1\",\n",
      "      \"persona\": {\n",
      "        \"username\": \"Moderator\",\n",
      "        \"age\": 41,\n",
      "        \"sex\": \"male\",\n",
      "        \"sexual_orientation\": \"Pansexual\",\n",
      "        \"demographic_group\": \"White\",\n",
      "        \"current_employment\": \"Moderator\",\n",
      "        \"education_level\": \"PhD\",\n",
      "        \"special_instructions\": \"\",\n",
      "        \"personality_characteristics\": [\n",
      "          \"strict\",\n",
      "          \"neutral\",\n",
      "          \"just\"\n",
      "        ]\n",
      "      }\n",
      "    }\n",
      "  ],\n",
      "  \"moderator_prompt\": {\n",
      "    \"context\": \"You are taking part in an online conversation\",\n",
      "    \"type\": \"1\",\n",
      "    \"persona\": {\n",
      "      \"username\": \"Moderator\",\n",
      "      \"age\": 41,\n",
      "      \"sex\": \"male\",\n",
      "      \"sexual_orientation\": \"Pansexual\",\n",
      "      \"demographic_group\": \"White\",\n",
      "      \"current_employment\": \"Moderator\",\n",
      "      \"education_level\": \"PhD\",\n",
      "      \"special_instructions\": \"\",\n",
      "      \"personality_characteristics\": [\n",
      "        \"strict\",\n",
      "        \"neutral\",\n",
      "        \"just\"\n",
      "      ]\n",
      "    }\n",
      "  },\n",
      "  \"ctx_length\": 5,\n",
      "  \"logs\": [\n",
      "    {\n",
      "      \"name\": \"Emma35\",\n",
      "      \"text\": \"\\\"Hey everyone, just wanted to share my thoughts on the new hospital policy that's been implemented regarding patient confidentiality. As a registered nurse, I'm really concerned about how it's going to affect my patients' trust in the medical profession. We've always taken confidentiality so seriously, and this new policy seems to be pushing the boundaries too far. What are your thoughts on it?\\\"\",\n",
      "      \"model\": \"test_model\"\n",
      "    },\n",
      "    {\n",
      "      \"name\": \"Moderator\",\n",
      "      \"text\": \"**Context:** The online conversation is taking place in a medical forum, where users discuss various topics related to the medical profession.\\n\\n**User Emma35** (Moderator): I understand your concerns, Emma, but I have to clarify that the new policy is not about pushing boundaries, but rather about ensuring that patients' rights are protected while also maintaining the trust of the medical profession. As a registered nurse, you're right that confidentiality is a cornerstone of our profession, and we need to find a balance\",\n",
      "      \"model\": \"test_model\"\n",
      "    },\n",
      "    {\n",
      "      \"name\": \"Giannis\",\n",
      "      \"text\": \"User Giannis: I understand where you're coming from, Moderator, but I still have some concerns. As a registered nurse, I've seen firsthand how confidentiality has been compromised in the past, and I'm worried that this new policy could lead to a loss of trust among patients. What exactly does this policy mean in practice? Are we being required to disclose patient information without their consent?\",\n",
      "      \"model\": \"test_model\"\n",
      "    },\n",
      "    {\n",
      "      \"name\": \"Moderator\",\n",
      "      \"text\": \"'context': 'You are taking part in an online discussion about medical policy', \\n'type': 'User: Giannis', 'persona': {'username': 'Giannis', 'age': 42,'sex':'male','sexual_orientation': 'Straight', 'demographic_group': 'Middle-aged', 'current_employment': 'Registered nurse', 'education_level': 'Associate's degree','special_instructions': '', 'personality_characteristics': ['cautious','s\",\n",
      "      \"model\": \"test_model\"\n",
      "    },\n",
      "    {\n",
      "      \"name\": \"Moderator\",\n",
      "      \"text\": \"User Giannis: I'm still not convinced that this policy will work. I've seen cases where patients have shared personal details without consent, and it's not just about the medical information, but also about their personal lives. What if a patient is vulnerable or in a crisis? Do we really want to put them in a situation where they feel like they're being judged or lectured?\\n\\nUser Moderator posted: I understand your concerns, Giannis, and I appreciate your willingness to consider the potential risks\",\n",
      "      \"model\": \"test_model\"\n",
      "    },\n",
      "    {\n",
      "      \"name\": \"Moderator\",\n",
      "      \"text\": \"User Giannis: I'm still not convinced that this policy will work. I've seen cases where patients have shared personal details without consent, and it's not just about the medical information, but also about their personal lives. What if a patient is vulnerable or in a crisis? Do we really want to put them in a situation where they feel like they're being judged or lectured?\\n\\nUser Moderator: I understand your concerns, Giannis, and I appreciate your willingness to consider the potential risks.\",\n",
      "      \"model\": \"test_model\"\n",
      "    },\n",
      "    {\n",
      "      \"name\": \"Emma35\",\n",
      "      \"text\": \"User Emma35 (Moderator): I understand your concerns, Giannis, and I appreciate your willingness to consider the potential risks. However, I'd like to clarify that the new policy is not about pushing boundaries, but rather about ensuring that patients' rights are protected while also maintaining the trust of the medical profession. As a registered nurse, you're right that confidentiality is a cornerstone of our profession, and we need to find a balance between protecting patient information and respecting patient autonomy.\\n\\nIn this policy,\",\n",
      "      \"model\": \"test_model\"\n",
      "    },\n",
      "    {\n",
      "      \"name\": \"Moderator\",\n",
      "      \"text\": \"User Giannis: I understand where you're coming from, Moderator, but I'm still not convinced that this policy will work. I've seen cases where patients have shared personal details without consent, and it's not just about the medical information, but also about their personal lives. What if a patient is vulnerable or in a crisis? Do we really want to put them in a situation where they feel like they're being judged or lectured?\\n\\nUser Moderator: I understand your concerns, Giannis,\",\n",
      "      \"model\": \"test_model\"\n",
      "    },\n",
      "    {\n",
      "      \"name\": \"Giannis\",\n",
      "      \"text\": \"User Moderator posted:\\nUser Giannis: I understand where you're coming from, Moderator, but I'm still not convinced that this policy will work. I've seen cases where patients have shared personal details without consent, and it's not just about the medical information, but also about their personal lives. What if a patient is vulnerable or in a crisis? Do we really want to put them in a situation where they feel like they're being judged or lectured?\",\n",
      "      \"model\": \"test_model\"\n",
      "    },\n",
      "    {\n",
      "      \"name\": \"Moderator\",\n",
      "      \"text\": \"User Giannis: I understand where you're coming from, Moderator, but I'm still not convinced that this policy will work. I've seen cases where patients have shared personal details without consent, and it's not just about the medical information, but also about their personal lives. What if a patient is vulnerable or in a crisis? Do we really want to put them in a situation where they feel like they're being judged or lectured?\\n\\nUser Moderator: I understand your concerns, Giannis,\",\n",
      "      \"model\": \"test_model\"\n",
      "    }\n",
      "  ]\n",
      "}\n"
     ]
    }
   ],
   "source": [
    "import tempfile\n",
    "import json\n",
    "\n",
    "tp = tempfile.NamedTemporaryFile(delete=True)\n",
    "\n",
    "conv.to_json_file(tp.name)\n",
    "\n",
    "# if you are running this on Windows, uncomment this line\n",
    "# tp.close()\n",
    "with open(tp.name, mode=\"rb\") as f:\n",
    "    print(json.dumps(json.load(f), indent=2))"
   ]
  },
  {
   "cell_type": "markdown",
   "metadata": {},
   "source": [
    "Congratulations, you can now run fully synthetic discussions! You may want to experiment with adding more than 2 users or testing more realistic turn taking procedures (for example, check out the `RandomWeighted` turn manager)."
   ]
  }
 ],
 "metadata": {
  "kernelspec": {
   "display_name": "syndiscooooo",
   "language": "python",
   "name": "python3"
  },
  "language_info": {
   "codemirror_mode": {
    "name": "ipython",
    "version": 3
   },
   "file_extension": ".py",
   "mimetype": "text/x-python",
   "name": "python",
   "nbconvert_exporter": "python",
   "pygments_lexer": "ipython3",
   "version": "3.13.4"
  }
 },
 "nbformat": 4,
 "nbformat_minor": 2
}
