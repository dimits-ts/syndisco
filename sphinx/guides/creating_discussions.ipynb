{
 "cells": [
  {
   "cell_type": "markdown",
   "metadata": {},
   "source": [
    "# Creating a Discussion\n",
    "\n",
    "The simplest task you can accomplish with this library is to create a small discussion between LLMs. \n",
    "\n",
    "This guide will teach you the basic setup of the library. You will understand how to setup models, user-agents and how to coordinate them in a discussion. By the end of htis guide, you will be able to run a small discussion with a moderator and save it to the disk for persistence."
   ]
  },
  {
   "cell_type": "markdown",
   "metadata": {},
   "source": [
    "## Basics"
   ]
  },
  {
   "cell_type": "markdown",
   "metadata": {},
   "source": [
    "### The Model\n",
    "\n",
    "SynDisco can theoretically support any LLM, as long as it is wrapped in a `BaseModel` wrapper. The `BaseModel` class is a very simple interface with one method. This method gives the underlying LLM input, and returns its output to the library.\n",
    "\n",
    "There already exists a `TransformersModel` class which handles models from the `transformers` python library. In 90% of your applications, this will be enough. We can load a TransformersModel using the following code:"
   ]
  },
  {
   "cell_type": "code",
   "execution_count": 1,
   "metadata": {},
   "outputs": [],
   "source": [
    "%load_ext autoreload\n",
    "%autoreload 2"
   ]
  },
  {
   "cell_type": "code",
   "execution_count": 2,
   "metadata": {
    "execution": {
     "iopub.execute_input": "2025-04-04T13:14:26.434159Z",
     "iopub.status.busy": "2025-04-04T13:14:26.433413Z",
     "iopub.status.idle": "2025-04-04T13:17:17.032081Z",
     "shell.execute_reply": "2025-04-04T13:17:17.031468Z"
    }
   },
   "outputs": [
    {
     "name": "stderr",
     "output_type": "stream",
     "text": [
      "/home/dimits/miniconda3/envs/syndiscooooo/lib/python3.13/site-packages/requests/__init__.py:86: RequestsDependencyWarning: Unable to find acceptable character detection dependency (chardet or charset_normalizer).\n",
      "  warnings.warn(\n",
      "Some parameters are on the meta device because they were offloaded to the cpu.\n",
      "Device set to use cuda:0\n"
     ]
    }
   ],
   "source": [
    "from syndisco.backend.model import TransformersModel\n",
    "\n",
    "llm = TransformersModel(\n",
    "    model_path=\"unsloth/Llama-3.2-1B-Instruct\",\n",
    "    name=\"test_model\",\n",
    "    max_out_tokens=100,\n",
    ")"
   ]
  },
  {
   "cell_type": "markdown",
   "metadata": {},
   "source": [
    "This will download a small LLM from huggingface. You can substitute the model_path for any similar model in [HuggingFace](https://huggingface.co/) supporting the Transformers library."
   ]
  },
  {
   "cell_type": "markdown",
   "metadata": {},
   "source": [
    "### Creating personas\n",
    "\n",
    "All `actors` can be defined by a `persona`, aka a set of attributes that define them. These attributes can be age, ethnicity, and even include special instructions on how they should behave.\n",
    "\n",
    "Creating a persona programmatically is simple:"
   ]
  },
  {
   "cell_type": "code",
   "execution_count": 3,
   "metadata": {
    "execution": {
     "iopub.execute_input": "2025-04-04T13:17:17.035421Z",
     "iopub.status.busy": "2025-04-04T13:17:17.035009Z",
     "iopub.status.idle": "2025-04-04T13:17:17.043083Z",
     "shell.execute_reply": "2025-04-04T13:17:17.042635Z"
    }
   },
   "outputs": [
    {
     "name": "stdout",
     "output_type": "stream",
     "text": [
      "{\"username\": \"Emma35\", \"age\": 38, \"sex\": \"female\", \"sexual_orientation\": \"Heterosexual\", \"demographic_group\": \"Latino\", \"current_employment\": \"Registered Nurse\", \"education_level\": \"Bachelor's\", \"special_instructions\": \"\", \"personality_characteristics\": [\"compassionate\", \"patient\", \"diligent\", \"overwhelmed\"]}\n",
      "{\"username\": \"Giannis\", \"age\": 21, \"sex\": \"male\", \"sexual_orientation\": \"Pansexual\", \"demographic_group\": \"White\", \"current_employment\": \"Game Developer\", \"education_level\": \"College\", \"special_instructions\": \"\", \"personality_characteristics\": [\"strategic\", \"meticulous\", \"nerdy\", \"hyper-focused\"]}\n"
     ]
    }
   ],
   "source": [
    "from syndisco.backend.persona import LLMPersona\n",
    "\n",
    "persona_data = [\n",
    "    {\n",
    "        \"username\": \"Emma35\",\n",
    "        \"age\": 38,\n",
    "        \"sex\": \"female\",\n",
    "        \"education_level\": \"Bachelor's\",\n",
    "        \"sexual_orientation\": \"Heterosexual\",\n",
    "        \"demographic_group\": \"Latino\",\n",
    "        \"current_employment\": \"Registered Nurse\",\n",
    "        \"special_instructions\": \"\",\n",
    "        \"personality_characteristics\": [\n",
    "            \"compassionate\",\n",
    "            \"patient\",\n",
    "            \"diligent\",\n",
    "            \"overwhelmed\",\n",
    "        ],\n",
    "    },\n",
    "    {\n",
    "        \"username\": \"Giannis\",\n",
    "        \"age\": 21,\n",
    "        \"sex\": \"male\",\n",
    "        \"education_level\": \"College\",\n",
    "        \"sexual_orientation\": \"Pansexual\",\n",
    "        \"demographic_group\": \"White\",\n",
    "        \"current_employment\": \"Game Developer\",\n",
    "        \"special_instructions\": \"\",\n",
    "        \"personality_characteristics\": [\n",
    "            \"strategic\",\n",
    "            \"meticulous\",\n",
    "            \"nerdy\",\n",
    "            \"hyper-focused\",\n",
    "        ],\n",
    "    },\n",
    "]\n",
    "\n",
    "personas = [LLMPersona(**data) for data in persona_data]\n",
    "\n",
    "for persona in personas:\n",
    "    print(persona)"
   ]
  },
  {
   "cell_type": "markdown",
   "metadata": {},
   "source": [
    "Since creating a lot of distinct users is essential in running large-scale experiments, users are usually defined in JSON format. That way, you can change anything without touching your code!\n",
    "\n",
    "[Here](https://github.com/dimits-ts/synthetic_moderation_experiments/blob/master/data/discussions_input/personas/personas.json) is an applied example of how to mass-define user personas through JSON files."
   ]
  },
  {
   "cell_type": "markdown",
   "metadata": {},
   "source": [
    "### Creating the user-agents\n",
    "\n",
    "Having a `persona` and a `model` we can finally create an `actor`. The actor will personify the selected persona using the model to talk.\n",
    "\n",
    "Besides a persona and a model, the actors will also need instructions and a context. By convention, all actors share the same context, and all user-agents share the same instructions. Personalized instructions are defined in the actor's persona."
   ]
  },
  {
   "cell_type": "code",
   "execution_count": 5,
   "metadata": {
    "execution": {
     "iopub.execute_input": "2025-04-04T13:17:17.045370Z",
     "iopub.status.busy": "2025-04-04T13:17:17.045239Z",
     "iopub.status.idle": "2025-04-04T13:17:17.048755Z",
     "shell.execute_reply": "2025-04-04T13:17:17.048324Z"
    }
   },
   "outputs": [],
   "source": [
    "from syndisco.backend.actors import LLMActor, ActorType\n",
    "\n",
    "\n",
    "CONTEXT = \"You are taking part in an online conversation\"\n",
    "INSTRUCTIONS = \"Act like a human would\"\n",
    "\n",
    "actors = [\n",
    "    LLMActor(\n",
    "        model=llm,\n",
    "        persona=p,\n",
    "        actor_type=ActorType.USER,\n",
    "        context=CONTEXT\n",
    "    )\n",
    "    for p in personas\n",
    "]"
   ]
  },
  {
   "cell_type": "markdown",
   "metadata": {},
   "source": [
    "### Managing turn-taking\n",
    "\n",
    "In real-life discussions, who gets to speak at each point in time is determined by complex social dynamics, which are difficult to realistically model.\n",
    "However, there are ways with which we can simulate these dynamics. \n",
    "\n",
    "SynDisco uses the `TurnManager` class to model turn taking. Two implementations are available by default: Round Robin, and Random Weighted"
   ]
  },
  {
   "cell_type": "markdown",
   "metadata": {},
   "source": [
    "- `Round Robin` is the simplest, most intuitive way to model turn-taking; everyone gets to talk once per round. Once everyone talks once, they get to talk again in the same sequence"
   ]
  },
  {
   "cell_type": "code",
   "execution_count": 6,
   "metadata": {
    "execution": {
     "iopub.execute_input": "2025-04-04T13:17:17.051022Z",
     "iopub.status.busy": "2025-04-04T13:17:17.050894Z",
     "iopub.status.idle": "2025-04-04T13:17:17.054840Z",
     "shell.execute_reply": "2025-04-04T13:17:17.054315Z"
    }
   },
   "outputs": [
    {
     "name": "stdout",
     "output_type": "stream",
     "text": [
      "John\n",
      "Mary\n",
      "Howard\n",
      "Todd\n",
      "John\n",
      "Mary\n",
      "Howard\n",
      "Todd\n",
      "John\n",
      "Mary\n"
     ]
    }
   ],
   "source": [
    "from syndisco.backend.turn_manager import RoundRobin\n",
    "\n",
    "\n",
    "rrobin_turn_manager = RoundRobin([\"John\", \"Mary\", \"Howard\", \"Todd\"])\n",
    "\n",
    "for i in range(10):\n",
    "    print(next(rrobin_turn_manager))"
   ]
  },
  {
   "cell_type": "markdown",
   "metadata": {},
   "source": [
    "- `RandomWeighted` on the other hand throws a weighted coin on each round. If the coin flip succedes, the previous user gets to respond. If not, another user is selected at random"
   ]
  },
  {
   "cell_type": "code",
   "execution_count": 7,
   "metadata": {
    "execution": {
     "iopub.execute_input": "2025-04-04T13:17:17.057039Z",
     "iopub.status.busy": "2025-04-04T13:17:17.056846Z",
     "iopub.status.idle": "2025-04-04T13:17:17.060907Z",
     "shell.execute_reply": "2025-04-04T13:17:17.060380Z"
    }
   },
   "outputs": [
    {
     "name": "stdout",
     "output_type": "stream",
     "text": [
      "Todd\n",
      "Mary\n",
      "John\n",
      "Todd\n",
      "Howard\n",
      "John\n",
      "Mary\n",
      "John\n",
      "Howard\n",
      "Todd\n"
     ]
    }
   ],
   "source": [
    "from syndisco.backend.turn_manager import RandomWeighted\n",
    "\n",
    "\n",
    "rweighted_turn_manager = RandomWeighted(\n",
    "    names=[\"John\", \"Mary\", \"Howard\", \"Todd\"], p_respond=0.5\n",
    ")\n",
    "\n",
    "for i in range(10):\n",
    "    print(next(rweighted_turn_manager))"
   ]
  },
  {
   "cell_type": "markdown",
   "metadata": {},
   "source": [
    "## Generating a discussion\n",
    "\n",
    "Let's start with the most basic task; a single discussion between two user-agents."
   ]
  },
  {
   "cell_type": "markdown",
   "metadata": {},
   "source": [
    "Since we only have two users, a RoundRobin approach where each user takes a turn sequentially is sufficient."
   ]
  },
  {
   "cell_type": "markdown",
   "metadata": {},
   "source": [
    "Now we can run a simple discussion"
   ]
  },
  {
   "cell_type": "code",
   "execution_count": null,
   "metadata": {
    "execution": {
     "iopub.execute_input": "2025-04-04T13:17:17.063253Z",
     "iopub.status.busy": "2025-04-04T13:17:17.063053Z",
     "iopub.status.idle": "2025-04-04T13:17:44.769808Z",
     "shell.execute_reply": "2025-04-04T13:17:44.768924Z"
    }
   },
   "outputs": [
    {
     "name": "stdout",
     "output_type": "stream",
     "text": [
      "User Emma35 posted:\n",
      "\"Hey everyone, I'm feeling really overwhelmed with work lately. I've\n",
      "been on the floor for 12 hours straight and I'm starting to feel like\n",
      "I'm just going through the motions. I love my job as a nurse, but the\n",
      "long hours and high-stress environment are taking a toll on my mental\n",
      "health. Has anyone else out there been there? How do you manage to\n",
      "stay patient and focused when the work gets intense?\" \n",
      "\n",
      "User Giannis posted:\n",
      "\"Hey Emma35, I totally get it. I'm a game developer, and I know what\n",
      "you mean about feeling like you're just going through the motions.\n",
      "It's like, I love what I do, but when the deadlines are looming and\n",
      "the bugs aren't fixed, it can be really tough to stay motivated.  For\n",
      "me, it's all about prioritization. When I'm working on a project, I\n",
      "try to break it down into smaller, manageable tasks, and focus on one\n",
      "thing \n",
      "\n"
     ]
    }
   ],
   "source": [
    "from syndisco.jobs import Discussion\n",
    "\n",
    "\n",
    "turn_manager = RoundRobin([actor.get_name() for actor in actors])\n",
    "conv = Discussion(next_turn_manager=turn_manager, users=actors)\n",
    "conv.begin()"
   ]
  },
  {
   "cell_type": "markdown",
   "metadata": {},
   "source": [
    "Let's add a moderator to oversee the discussion."
   ]
  },
  {
   "cell_type": "code",
   "execution_count": null,
   "metadata": {
    "execution": {
     "iopub.execute_input": "2025-04-04T13:17:44.772648Z",
     "iopub.status.busy": "2025-04-04T13:17:44.772462Z",
     "iopub.status.idle": "2025-04-04T13:18:34.768890Z",
     "shell.execute_reply": "2025-04-04T13:18:34.768037Z"
    }
   },
   "outputs": [],
   "source": [
    "MODERATOR_INSTRUCTIONS = \"You are a moderator. Oversee the discussion\"\n",
    "\n",
    "moderator_persona = LLMPersona(\n",
    "    **{\n",
    "        \"username\": \"Moderator\",\n",
    "        \"age\": 41,\n",
    "        \"sex\": \"male\",\n",
    "        \"education_level\": \"PhD\",\n",
    "        \"sexual_orientation\": \"Pansexual\",\n",
    "        \"demographic_group\": \"White\",\n",
    "        \"current_employment\": \"Moderator\",\n",
    "        \"special_instructions\": \"\",\n",
    "        \"personality_characteristics\": [\n",
    "            \"strict\",\n",
    "            \"neutral\",\n",
    "            \"just\",\n",
    "        ],\n",
    "    }\n",
    ")\n",
    "\n",
    "moderator = LLMActor(\n",
    "    model=llm,\n",
    "    name=moderator_persona.username,\n",
    "    attributes=moderator_persona.to_attribute_list(),\n",
    "    context=CONTEXT,\n",
    "    instructions=MODERATOR_INSTRUCTIONS,\n",
    "    actor_type=ActorType.USER,\n",
    ")\n",
    "\n",
    "\n",
    "# remember to update this!\n",
    "turn_manager = RoundRobin([actor.name for actor in actors] + [moderator.name])\n",
    "conv = Discussion(\n",
    "    next_turn_manager=turn_manager,\n",
    "    users=actors + [moderator],\n",
    "    moderator=moderator,\n",
    ")\n",
    "conv.begin()"
   ]
  },
  {
   "cell_type": "markdown",
   "metadata": {},
   "source": [
    "### Saving a discussion to the disk\n",
    "\n",
    "It's best practice to save the results of each discussion after it has concluded. This way, no matter what happens to the program executing the discussions, progress will be checkpointed.\n",
    "\n",
    "The `Discussion` class provides a method for saving its logs and related metadata to a JSON file:"
   ]
  },
  {
   "cell_type": "code",
   "execution_count": null,
   "metadata": {
    "execution": {
     "iopub.execute_input": "2025-04-04T13:18:34.771690Z",
     "iopub.status.busy": "2025-04-04T13:18:34.771521Z",
     "iopub.status.idle": "2025-04-04T13:18:34.776980Z",
     "shell.execute_reply": "2025-04-04T13:18:34.776394Z"
    }
   },
   "outputs": [],
   "source": [
    "import tempfile\n",
    "import json\n",
    "\n",
    "tp = tempfile.NamedTemporaryFile(delete=True)\n",
    "\n",
    "conv.to_json_file(tp.name)\n",
    "\n",
    "# if you are running this on Windows, uncomment this line\n",
    "# tp.close()\n",
    "with open(tp.name, mode=\"rb\") as f:\n",
    "    print(json.dumps(json.load(f), indent=2))"
   ]
  },
  {
   "cell_type": "markdown",
   "metadata": {},
   "source": [
    "Congratulations, you can now run fully synthetic discussions! You may want to experiment with adding more than 2 users or testing more realistic turn taking procedures (for example, check out the `RandomWeighted` turn manager)."
   ]
  }
 ],
 "metadata": {
  "kernelspec": {
   "display_name": "syndiscooooo",
   "language": "python",
   "name": "python3"
  },
  "language_info": {
   "codemirror_mode": {
    "name": "ipython",
    "version": 3
   },
   "file_extension": ".py",
   "mimetype": "text/x-python",
   "name": "python",
   "nbconvert_exporter": "python",
   "pygments_lexer": "ipython3",
   "version": "3.13.4"
  }
 },
 "nbformat": 4,
 "nbformat_minor": 2
}
