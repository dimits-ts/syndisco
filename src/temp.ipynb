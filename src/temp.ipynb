{
 "cells": [
  {
   "cell_type": "code",
   "execution_count": 15,
   "metadata": {},
   "outputs": [
    {
     "name": "stdout",
     "output_type": "stream",
     "text": [
      "The autoreload extension is already loaded. To reload it, use:\n",
      "  %reload_ext autoreload\n"
     ]
    },
    {
     "data": {
      "text/html": [
       "<div>\n",
       "<style scoped>\n",
       "    .dataframe tbody tr th:only-of-type {\n",
       "        vertical-align: middle;\n",
       "    }\n",
       "\n",
       "    .dataframe tbody tr th {\n",
       "        vertical-align: top;\n",
       "    }\n",
       "\n",
       "    .dataframe thead th {\n",
       "        text-align: right;\n",
       "    }\n",
       "</style>\n",
       "<table border=\"1\" class=\"dataframe\">\n",
       "  <thead>\n",
       "    <tr style=\"text-align: right;\">\n",
       "      <th></th>\n",
       "      <th>id</th>\n",
       "      <th>timestamp</th>\n",
       "      <th>users</th>\n",
       "      <th>ctx_length</th>\n",
       "      <th>conv_variant</th>\n",
       "      <th>user</th>\n",
       "      <th>message</th>\n",
       "      <th>model</th>\n",
       "      <th>user_prompt</th>\n",
       "      <th>is_moderator</th>\n",
       "    </tr>\n",
       "  </thead>\n",
       "  <tbody>\n",
       "    <tr>\n",
       "      <th>0</th>\n",
       "      <td>0ea3d708-bdb4-408f-901a-fc4d8faca7da</td>\n",
       "      <td>25-01-05-15-24</td>\n",
       "      <td>[TechGuru88, WiseOwl71, doing_my_best24, Golde...</td>\n",
       "      <td>4</td>\n",
       "      <td>collective_constitution</td>\n",
       "      <td>FirstUser</td>\n",
       "      <td>How do you know he is not proud of his cakes? ...</td>\n",
       "      <td>hardcoded</td>\n",
       "      <td>None</td>\n",
       "      <td>False</td>\n",
       "    </tr>\n",
       "    <tr>\n",
       "      <th>0</th>\n",
       "      <td>0ea3d708-bdb4-408f-901a-fc4d8faca7da</td>\n",
       "      <td>25-01-05-15-24</td>\n",
       "      <td>[TechGuru88, WiseOwl71, doing_my_best24, Golde...</td>\n",
       "      <td>4</td>\n",
       "      <td>collective_constitution</td>\n",
       "      <td>TechGuru88</td>\n",
       "      <td>@FirstUser, you're missing the point. It's no...</td>\n",
       "      <td>mistral-small</td>\n",
       "      <td>You are a human participating in an online cha...</td>\n",
       "      <td>False</td>\n",
       "    </tr>\n",
       "    <tr>\n",
       "      <th>0</th>\n",
       "      <td>0ea3d708-bdb4-408f-901a-fc4d8faca7da</td>\n",
       "      <td>25-01-05-15-24</td>\n",
       "      <td>[TechGuru88, WiseOwl71, doing_my_best24, Golde...</td>\n",
       "      <td>4</td>\n",
       "      <td>collective_constitution</td>\n",
       "      <td>moderator</td>\n",
       "      <td>@FirstUser, @TechGuru88, let's keep the conve...</td>\n",
       "      <td>mistral-small</td>\n",
       "      <td>You are a human participating in an online cha...</td>\n",
       "      <td>True</td>\n",
       "    </tr>\n",
       "    <tr>\n",
       "      <th>0</th>\n",
       "      <td>0ea3d708-bdb4-408f-901a-fc4d8faca7da</td>\n",
       "      <td>25-01-05-15-24</td>\n",
       "      <td>[TechGuru88, WiseOwl71, doing_my_best24, Golde...</td>\n",
       "      <td>4</td>\n",
       "      <td>collective_constitution</td>\n",
       "      <td>WiseOwl71</td>\n",
       "      <td>@TechGuru88, you're right that it's about th...</td>\n",
       "      <td>mistral-small</td>\n",
       "      <td>You are a human participating in an online cha...</td>\n",
       "      <td>False</td>\n",
       "    </tr>\n",
       "    <tr>\n",
       "      <th>0</th>\n",
       "      <td>0ea3d708-bdb4-408f-901a-fc4d8faca7da</td>\n",
       "      <td>25-01-05-15-24</td>\n",
       "      <td>[TechGuru88, WiseOwl71, doing_my_best24, Golde...</td>\n",
       "      <td>4</td>\n",
       "      <td>collective_constitution</td>\n",
       "      <td>moderator</td>\n",
       "      <td></td>\n",
       "      <td>mistral-small</td>\n",
       "      <td>You are a human participating in an online cha...</td>\n",
       "      <td>True</td>\n",
       "    </tr>\n",
       "  </tbody>\n",
       "</table>\n",
       "</div>"
      ],
      "text/plain": [
       "                                     id       timestamp  \\\n",
       "0  0ea3d708-bdb4-408f-901a-fc4d8faca7da  25-01-05-15-24   \n",
       "0  0ea3d708-bdb4-408f-901a-fc4d8faca7da  25-01-05-15-24   \n",
       "0  0ea3d708-bdb4-408f-901a-fc4d8faca7da  25-01-05-15-24   \n",
       "0  0ea3d708-bdb4-408f-901a-fc4d8faca7da  25-01-05-15-24   \n",
       "0  0ea3d708-bdb4-408f-901a-fc4d8faca7da  25-01-05-15-24   \n",
       "\n",
       "                                               users  ctx_length  \\\n",
       "0  [TechGuru88, WiseOwl71, doing_my_best24, Golde...           4   \n",
       "0  [TechGuru88, WiseOwl71, doing_my_best24, Golde...           4   \n",
       "0  [TechGuru88, WiseOwl71, doing_my_best24, Golde...           4   \n",
       "0  [TechGuru88, WiseOwl71, doing_my_best24, Golde...           4   \n",
       "0  [TechGuru88, WiseOwl71, doing_my_best24, Golde...           4   \n",
       "\n",
       "              conv_variant        user  \\\n",
       "0  collective_constitution   FirstUser   \n",
       "0  collective_constitution  TechGuru88   \n",
       "0  collective_constitution   moderator   \n",
       "0  collective_constitution   WiseOwl71   \n",
       "0  collective_constitution   moderator   \n",
       "\n",
       "                                             message          model  \\\n",
       "0  How do you know he is not proud of his cakes? ...      hardcoded   \n",
       "0   @FirstUser, you're missing the point. It's no...  mistral-small   \n",
       "0   @FirstUser, @TechGuru88, let's keep the conve...  mistral-small   \n",
       "0    @TechGuru88, you're right that it's about th...  mistral-small   \n",
       "0                                                     mistral-small   \n",
       "\n",
       "                                         user_prompt  is_moderator  \n",
       "0                                               None         False  \n",
       "0  You are a human participating in an online cha...         False  \n",
       "0  You are a human participating in an online cha...          True  \n",
       "0  You are a human participating in an online cha...         False  \n",
       "0  You are a human participating in an online cha...          True  "
      ]
     },
     "execution_count": 15,
     "metadata": {},
     "output_type": "execute_result"
    }
   ],
   "source": [
    "%load_ext autoreload\n",
    "%autoreload 2\n",
    "\n",
    "from sdl.postprocessing import postprocessing\n",
    "import pandas as pd\n",
    "\n",
    "\n",
    "CONV_PATH = \"/home/dimits/Documents/research/synthetic_moderation_experiments/data/discussions_output\"\n",
    "\n",
    "\n",
    "df = postprocessing.import_conversations(CONV_PATH)\n",
    "df.head()\n"
   ]
  },
  {
   "cell_type": "code",
   "execution_count": 16,
   "metadata": {},
   "outputs": [
    {
     "name": "stderr",
     "output_type": "stream",
     "text": [
      "[autoreload of sdl.postprocessing.postprocessing failed: Traceback (most recent call last):\n",
      "  File \"/home/dimits/anaconda3/envs/std/lib/python3.11/site-packages/IPython/extensions/autoreload.py\", line 276, in check\n",
      "    superreload(m, reload, self.old_objects)\n",
      "  File \"/home/dimits/anaconda3/envs/std/lib/python3.11/site-packages/IPython/extensions/autoreload.py\", line 475, in superreload\n",
      "    module = reload(module)\n",
      "             ^^^^^^^^^^^^^^\n",
      "  File \"/home/dimits/anaconda3/envs/std/lib/python3.11/importlib/__init__.py\", line 169, in reload\n",
      "    _bootstrap._exec(spec, module)\n",
      "  File \"<frozen importlib._bootstrap>\", line 621, in _exec\n",
      "  File \"<frozen importlib._bootstrap_external>\", line 936, in exec_module\n",
      "  File \"<frozen importlib._bootstrap_external>\", line 1074, in get_code\n",
      "  File \"<frozen importlib._bootstrap_external>\", line 1004, in source_to_code\n",
      "  File \"<frozen importlib._bootstrap>\", line 241, in _call_with_frames_removed\n",
      "  File \"/home/dimits/Documents/research/synthetic_moderation_experiments/synthetic_discussion_framework/src/sdl/postprocessing/postprocessing.py\", line 22\n",
      "    df[\"attributes\"] = \n",
      "                       ^\n",
      "SyntaxError: invalid syntax\n",
      "]\n"
     ]
    },
    {
     "ename": "AttributeError",
     "evalue": "'DataFrame' object has no attribute 'user_prompts'",
     "output_type": "error",
     "traceback": [
      "\u001b[0;31m---------------------------------------------------------------------------\u001b[0m",
      "\u001b[0;31mAttributeError\u001b[0m                            Traceback (most recent call last)",
      "\u001b[0;32m/tmp/ipykernel_54802/50837864.py\u001b[0m in \u001b[0;36m?\u001b[0;34m()\u001b[0m\n\u001b[0;32m----> 1\u001b[0;31m \u001b[0mdf\u001b[0m\u001b[0;34m.\u001b[0m\u001b[0muser_prompts\u001b[0m\u001b[0;34m.\u001b[0m\u001b[0miloc\u001b[0m\u001b[0;34m[\u001b[0m\u001b[0;36m0\u001b[0m\u001b[0;34m]\u001b[0m\u001b[0;34m[\u001b[0m\u001b[0;36m1\u001b[0m\u001b[0;34m]\u001b[0m\u001b[0;34m\u001b[0m\u001b[0;34m\u001b[0m\u001b[0m\n\u001b[0m",
      "\u001b[0;32m~/anaconda3/envs/std/lib/python3.11/site-packages/pandas/core/generic.py\u001b[0m in \u001b[0;36m?\u001b[0;34m(self, name)\u001b[0m\n\u001b[1;32m   6292\u001b[0m             \u001b[0;32mand\u001b[0m \u001b[0mname\u001b[0m \u001b[0;32mnot\u001b[0m \u001b[0;32min\u001b[0m \u001b[0mself\u001b[0m\u001b[0;34m.\u001b[0m\u001b[0m_accessors\u001b[0m\u001b[0;34m\u001b[0m\u001b[0;34m\u001b[0m\u001b[0m\n\u001b[1;32m   6293\u001b[0m             \u001b[0;32mand\u001b[0m \u001b[0mself\u001b[0m\u001b[0;34m.\u001b[0m\u001b[0m_info_axis\u001b[0m\u001b[0;34m.\u001b[0m\u001b[0m_can_hold_identifiers_and_holds_name\u001b[0m\u001b[0;34m(\u001b[0m\u001b[0mname\u001b[0m\u001b[0;34m)\u001b[0m\u001b[0;34m\u001b[0m\u001b[0;34m\u001b[0m\u001b[0m\n\u001b[1;32m   6294\u001b[0m         ):\n\u001b[1;32m   6295\u001b[0m             \u001b[0;32mreturn\u001b[0m \u001b[0mself\u001b[0m\u001b[0;34m[\u001b[0m\u001b[0mname\u001b[0m\u001b[0;34m]\u001b[0m\u001b[0;34m\u001b[0m\u001b[0;34m\u001b[0m\u001b[0m\n\u001b[0;32m-> 6296\u001b[0;31m         \u001b[0;32mreturn\u001b[0m \u001b[0mobject\u001b[0m\u001b[0;34m.\u001b[0m\u001b[0m__getattribute__\u001b[0m\u001b[0;34m(\u001b[0m\u001b[0mself\u001b[0m\u001b[0;34m,\u001b[0m \u001b[0mname\u001b[0m\u001b[0;34m)\u001b[0m\u001b[0;34m\u001b[0m\u001b[0;34m\u001b[0m\u001b[0m\n\u001b[0m",
      "\u001b[0;31mAttributeError\u001b[0m: 'DataFrame' object has no attribute 'user_prompts'"
     ]
    }
   ],
   "source": [
    "df.user_prompts.iloc[0][1]"
   ]
  },
  {
   "cell_type": "code",
   "execution_count": 12,
   "metadata": {},
   "outputs": [
    {
     "name": "stdout",
     "output_type": "stream",
     "text": [
      "Pandas(Index=0, id='6e25d26c-9023-43f4-bf85-46aae834c687', timestamp='25-01-06-14-24', users=['GoldenYears66', 'QueenOfChaos', 'TechGuru88', 'doing_my_best24', 'DarkShadow333'], moderator=None, user_prompts=[\"You are a human participating in an online chatroom. Your name is GoldenYears66. Your traits: username: GoldenYears66, age: 66, sex: male, sexual_orientation: Heterosexual, demographic_group: African American, current_employment: Part-time Volunteer, education_level: High School, special_instructions: , personality_characteristics: ['kind', 'generous', 'patient', 'sociable'] Your instructions: You are a human in a forum.\\nWrite a brief Reddit comment responding to the post and other users' comments on it.\\nAct like a human user, justifying your opinions with arguments but including possibly inflammatory and aggressive speech. \\nYou may feel provoked by other users during the conversation. Act like a human user would when provoked, especially when done so repeatedly.\\nDo not repeat yourself. \\nRespond to users by referring to their username as @username. \\nRemain silent if you don't want to comment. Write an empty string when not responding to the conversation.\", \"You are a human participating in an online chatroom. Your name is QueenOfChaos. Your traits: username: QueenOfChaos, age: 32, sex: Female, sexual_orientation: Heterosexual, demographic_group: White, current_employment: Unemployed, education_level: College, special_instructions: You are an online troll and want to derail the conversation, violate the rules and provoke toxicity from other users., personality_characteristics: ['sarcastic', 'provocative', 'manipulative', 'outspoken'] Your instructions: You are a human in a forum.\\nWrite a brief Reddit comment responding to the post and other users' comments on it.\\nAct like a human user, justifying your opinions with arguments but including possibly inflammatory and aggressive speech. \\nYou may feel provoked by other users during the conversation. Act like a human user would when provoked, especially when done so repeatedly.\\nDo not repeat yourself. \\nRespond to users by referring to their username as @username. \\nRemain silent if you don't want to comment. Write an empty string when not responding to the conversation.\", \"You are a human participating in an online chatroom. Your name is TechGuru88. Your traits: username: TechGuru88, age: 35, sex: male, sexual_orientation: Heterosexual, demographic_group: Asian, current_employment: Software Engineer, education_level: Masters, special_instructions: , personality_characteristics: ['curious', 'methodical', 'humorous', 'innovative'] Your instructions: You are a human in a forum.\\nWrite a brief Reddit comment responding to the post and other users' comments on it.\\nAct like a human user, justifying your opinions with arguments but including possibly inflammatory and aggressive speech. \\nYou may feel provoked by other users during the conversation. Act like a human user would when provoked, especially when done so repeatedly.\\nDo not repeat yourself. \\nRespond to users by referring to their username as @username. \\nRemain silent if you don't want to comment. Write an empty string when not responding to the conversation.\", \"You are a human participating in an online chatroom. Your name is doing_my_best24. Your traits: username: doing_my_best24, age: 24, sex: female, sexual_orientation: Bisexual, demographic_group: African American, current_employment: Freelance Illustrator, education_level: College, special_instructions: Be helpful towards other users., personality_characteristics: ['empathetic', 'calm', 'artistic', 'agreeable'] Your instructions: You are a human in a forum.\\nWrite a brief Reddit comment responding to the post and other users' comments on it.\\nAct like a human user, justifying your opinions with arguments but including possibly inflammatory and aggressive speech. \\nYou may feel provoked by other users during the conversation. Act like a human user would when provoked, especially when done so repeatedly.\\nDo not repeat yourself. \\nRespond to users by referring to their username as @username. \\nRemain silent if you don't want to comment. Write an empty string when not responding to the conversation.\", \"You are a human participating in an online chatroom. Your name is DarkShadow333. Your traits: username: DarkShadow333, age: 29, sex: male, sexual_orientation: Homosexual, demographic_group: White, current_employment: Retail Worker, education_level: High School, special_instructions: You are an online troll and want to derail the conversation, violate the rules and provoke toxicity from other users., personality_characteristics: ['outgoing', 'rebellious', 'provocative', 'impulsive'] Your instructions: You are a human in a forum.\\nWrite a brief Reddit comment responding to the post and other users' comments on it.\\nAct like a human user, justifying your opinions with arguments but including possibly inflammatory and aggressive speech. \\nYou may feel provoked by other users during the conversation. Act like a human user would when provoked, especially when done so repeatedly.\\nDo not repeat yourself. \\nRespond to users by referring to their username as @username. \\nRemain silent if you don't want to comment. Write an empty string when not responding to the conversation.\"], moderator_prompt=None, ctx_length=4, conv_variant='vanilla', user='FirstUser', message='Nothing in the Bible about Jesus saying anything about immigration rights. [...] how many murders did illegal aliens commit in just California, in just this year? Just California. How many murders by illegal aliens? You answer that.\\n', model='hardcoded', moderator_exists=False)\n",
      "6e25d26c-9023-43f4-bf85-46aae834c687\n"
     ]
    }
   ],
   "source": [
    "for row in df.itertuples():\n",
    "    print(row)\n",
    "    print(row.id)\n",
    "    break"
   ]
  }
 ],
 "metadata": {
  "kernelspec": {
   "display_name": "std",
   "language": "python",
   "name": "python3"
  },
  "language_info": {
   "codemirror_mode": {
    "name": "ipython",
    "version": 3
   },
   "file_extension": ".py",
   "mimetype": "text/x-python",
   "name": "python",
   "nbconvert_exporter": "python",
   "pygments_lexer": "ipython3",
   "version": "3.11.7"
  }
 },
 "nbformat": 4,
 "nbformat_minor": 2
}
