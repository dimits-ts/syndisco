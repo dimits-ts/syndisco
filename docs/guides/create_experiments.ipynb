{
 "cells": [
  {
   "cell_type": "markdown",
   "metadata": {},
   "source": [
    "# Creating and Managing Experiments\n",
    "\n",
    "The last two guides showcased how you can create and run synthetic discussions, and synthetic annotations using LLMs. However, in order to produce robust results for a hypothesis, you may need to produce multiple annotated discussions. \n",
    "\n",
    "While this is certainly possible using the `Conversation` and `AnnotationConv` APIs, SynDisco offers a high-level API that automatically creates and manages multiple discussions with different configurations. This guide will showcase how you can leverage this API to automate your experiments."
   ]
  },
  {
   "cell_type": "markdown",
   "metadata": {},
   "source": [
    "## The Experiments\n",
    "\n",
    "An`Experiment` is an entity that generates and runs tasks. Thus, a `DiscussionExperiment`"
   ]
  }
 ],
 "metadata": {
  "language_info": {
   "name": "python"
  }
 },
 "nbformat": 4,
 "nbformat_minor": 2
}
