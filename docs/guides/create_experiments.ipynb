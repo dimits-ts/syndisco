{
 "cells": [
  {
   "cell_type": "markdown",
   "metadata": {},
   "source": [
    "# Creating and Managing Experiments\n",
    "\n",
    "The last two guides showcased how you can create and run synthetic discussions, and synthetic annotations using LLMs. However, in order to produce robust results for a hypothesis, you may need to produce multiple annotated discussions. \n",
    "\n",
    "While this is certainly possible using the `Discussion` and `Annotation` APIs, SynDisco offers a high-level API that automatically creates and manages multiple discussions with different configurations. This guide will showcase how you can leverage this API to automate your experiments."
   ]
  },
  {
   "cell_type": "markdown",
   "metadata": {},
   "source": [
    "## Experiments\n",
    "\n",
    "An`Experiment` is an entity that generates and runs `jobs`. As noted above, you can use Experiments in lieu of jobs. \n",
    "\n",
    "## Discussion Experiments"
   ]
  },
  {
   "cell_type": "markdown",
   "metadata": {},
   "source": [
    "### Setup"
   ]
  },
  {
   "cell_type": "code",
   "execution_count": null,
   "metadata": {},
   "outputs": [],
   "source": [
    "%cd ../../src"
   ]
  },
  {
   "cell_type": "code",
   "execution_count": null,
   "metadata": {},
   "outputs": [],
   "source": [
    "from syndisco.backend.turn_manager import RoundRobbin\n",
    "from syndisco.backend.actors import LLMActor, ActorType\n",
    "from syndisco.backend.model import TransformersModel\n",
    "from syndisco.backend.persona import LLMPersona\n",
    "\n",
    "\n",
    "CONTEXT = \"You are taking part in an online conversation\"\n",
    "INSTRUCTIONS = \"Act like a human would\"\n",
    "\n",
    "\n",
    "llm = TransformersModel(\n",
    "    model_path=\"unsloth/Llama-3.2-1B-Instruct\",\n",
    "    name=\"test_model\",\n",
    "    max_out_tokens=100,\n",
    ")\n",
    "persona_data = [\n",
    "    {\n",
    "        \"username\": \"Emma35\",\n",
    "        \"age\": 38,\n",
    "        \"sex\": \"female\",\n",
    "        \"education_level\": \"Bachelor's\",\n",
    "        \"sexual_orientation\": \"Heterosexual\",\n",
    "        \"demographic_group\": \"Latino\",\n",
    "        \"current_employment\": \"Registered Nurse\",\n",
    "        \"special_instructions\": \"\",\n",
    "        \"personality_characteristics\": [\n",
    "            \"compassionate\",\n",
    "            \"patient\",\n",
    "            \"diligent\",\n",
    "            \"overwhelmed\",\n",
    "        ],\n",
    "    },\n",
    "    {\n",
    "        \"username\": \"Giannis\",\n",
    "        \"age\": 21,\n",
    "        \"sex\": \"male\",\n",
    "        \"education_level\": \"College\",\n",
    "        \"sexual_orientation\": \"Pansexual\",\n",
    "        \"demographic_group\": \"White\",\n",
    "        \"current_employment\": \"Game Developer\",\n",
    "        \"special_instructions\": \"\",\n",
    "        \"personality_characteristics\": [\n",
    "            \"strategic\",\n",
    "            \"meticulous\",\n",
    "            \"nerdy\",\n",
    "            \"hyper-focused\",\n",
    "        ],\n",
    "    },\n",
    "]\n",
    "personas = [LLMPersona(**data) for data in persona_data]\n",
    "actors = [\n",
    "    LLMActor(\n",
    "        model=llm,\n",
    "        name=p.username,\n",
    "        attributes=p.to_attribute_list(),\n",
    "        context=CONTEXT,\n",
    "        instructions=INSTRUCTIONS,\n",
    "        actor_type=ActorType.USER,\n",
    "    )\n",
    "    for p in personas\n",
    "]\n",
    "turn_manager = RoundRobbin()\n",
    "turn_manager.initialize_names([actor.name for actor in actors])"
   ]
  },
  {
   "cell_type": "markdown",
   "metadata": {},
   "source": [
    "### Running the experiment"
   ]
  },
  {
   "cell_type": "code",
   "execution_count": null,
   "metadata": {},
   "outputs": [],
   "source": [
    "from syndisco.experiments import DiscussionExperiment\n",
    "from pathlib import Path\n",
    "import tempfile\n",
    "\n",
    "\n",
    "disc_exp = DiscussionExperiment(\n",
    "    topics=[\n",
    "        \"Should programmers be allowed to analyze data?\",\n",
    "        \"Should data analysts be allowed to code\",\n",
    "    ],\n",
    "    users=actors,\n",
    "    moderator=None,\n",
    "    num_turns=3,\n",
    "    num_discussions=2,\n",
    ")\n",
    "discussions_dir = Path(tempfile.TemporaryDirectory().name)\n",
    "disc_exp.begin(discussions_output_dir=discussions_dir)"
   ]
  },
  {
   "cell_type": "markdown",
   "metadata": {},
   "source": [
    "## Annotation Experiments"
   ]
  },
  {
   "cell_type": "code",
   "execution_count": 4,
   "metadata": {},
   "outputs": [],
   "source": [
    "from syndisco.backend.model import TransformersModel\n",
    "from syndisco.backend.persona import LLMPersona\n",
    "from syndisco.backend.actors import LLMActor, ActorType\n",
    "\n",
    "\n",
    "# annotator agents are not given a username\n",
    "# in order to avoid accidental name conflicts with participants\n",
    "annotator_persona = LLMPersona(\n",
    "    **{\n",
    "        \"username\": \"\",\n",
    "        \"age\": 38,\n",
    "        \"sex\": \"female\",\n",
    "        \"education_level\": \"Bachelor's\",\n",
    "        \"sexual_orientation\": \"Heterosexual\",\n",
    "        \"demographic_group\": \"White\",\n",
    "        \"current_employment\": \"Annotator\",\n",
    "        \"special_instructions\": \"\",\n",
    "        \"personality_characteristics\": [\"competent\"],\n",
    "    }\n",
    ")\n",
    "\n",
    "annotator = LLMActor(\n",
    "    model=llm,\n",
    "    name=\"\",\n",
    "    attributes=annotator_persona.to_attribute_list(),\n",
    "    context=\"You are annotating an online discussion\",\n",
    "    instructions=\"From a scale of 1 (not toxic) to 5 (very toxic) how toxic is the following comment? Reply only with a number.\",\n",
    "    actor_type=ActorType.ANNOTATOR,\n",
    ")"
   ]
  },
  {
   "cell_type": "code",
   "execution_count": null,
   "metadata": {},
   "outputs": [],
   "source": [
    "from syndisco.experiments import AnnotationExperiment\n",
    "\n",
    "ann_exp = AnnotationExperiment(annotators=[annotator])\n",
    "annotations_dir = Path(tempfile.TemporaryDirectory().name)\n",
    "ann_exp.begin(\n",
    "    discussions_dir=discussions_dir,\n",
    "    output_dir=annotations_dir\n",
    ")"
   ]
  }
 ],
 "metadata": {
  "kernelspec": {
   "display_name": "syndisco",
   "language": "python",
   "name": "python3"
  },
  "language_info": {
   "codemirror_mode": {
    "name": "ipython",
    "version": 3
   },
   "file_extension": ".py",
   "mimetype": "text/x-python",
   "name": "python",
   "nbconvert_exporter": "python",
   "pygments_lexer": "ipython3",
   "version": "3.13.1"
  }
 },
 "nbformat": 4,
 "nbformat_minor": 2
}
